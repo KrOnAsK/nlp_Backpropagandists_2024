{
 "cells": [
  {
   "cell_type": "markdown",
   "metadata": {},
   "source": [
    "# Experimentation with Non-DL SVM"
   ]
  },
  {
   "cell_type": "code",
   "execution_count": 1,
   "metadata": {},
   "outputs": [],
   "source": [
    "import os\n",
    "import sys\n",
    "import pandas as pd\n",
    "import numpy as np\n",
    "import seaborn as sns\n",
    "import matplotlib.pyplot as plt\n",
    "import math\n",
    "\n",
    "# Add parent directory to the system path\n",
    "sys.path.append(os.path.abspath(os.path.join(os.getcwd(), os.pardir)))\n",
    "\n",
    "from modules.data_loader import load_initial_data\n",
    "from modules.text_segmentation import tokenize_text, handle_unusual_sentences\n",
    "from modules.text_normalization import normalize_text\n",
    "from modules.connlu_converter import convert_to_connlu\n",
    "from modules.utils import setup_logging\n",
    "import logging\n",
    "import nltk\n",
    "from sklearn.model_selection import train_test_split\n",
    "from sklearn.metrics import accuracy_score, precision_recall_fscore_support\n",
    "import json\n",
    "\n",
    "from sklearn.feature_extraction.text import TfidfVectorizer\n",
    "from sklearn.svm import LinearSVC\n",
    "from sklearn.multiclass import OneVsRestClassifier\n",
    "from sklearn.pipeline import Pipeline\n",
    "from sklearn.metrics import classification_report, multilabel_confusion_matrix\n",
    "import joblib\n",
    "\n",
    "from transformers import AutoTokenizer, AutoModelForMaskedLM"
   ]
  },
  {
   "cell_type": "markdown",
   "metadata": {},
   "source": [
    "## Load and Preprocess Data (Milestone 1)"
   ]
  },
  {
   "cell_type": "code",
   "execution_count": 2,
   "metadata": {},
   "outputs": [],
   "source": [
    "# Setup logging\n",
    "setup_logging()\n",
    "logger = logging.getLogger(__name__)\n",
    "\n",
    "# Define paths\n",
    "if '__file__' in globals():\n",
    "    base_path = os.path.dirname(os.path.abspath(__file__))\n",
    "else:\n",
    "    base_path = os.path.abspath(os.path.join(os.getcwd(), os.pardir, os.pardir))\n",
    "documents_path = os.path.join(base_path, \"training_data_16_October_release\\\\EN\\\\raw-documents\")\n",
    "annotations_file = os.path.join(base_path, \"training_data_16_October_release\\\\EN\\\\subtask-2-annotations.txt\")\n",
    "output_dir = os.path.join(base_path, \"code/CoNLL\")\n",
    "model_path = os.path.join(base_path, \"code/models/svm_model.joblib\")\n",
    "\n",
    "\n",
    "# Create output directory if it doesn't exist\n",
    "os.makedirs(output_dir, exist_ok=True)\n",
    "\n",
    "use_cached_data = True\n",
    "\n",
    "if use_cached_data:\n",
    "    input_file_full = os.path.join(base_path, \"code\\\\df_normalized.csv\")\n",
    "    df = pd.read_csv(input_file_full)\n",
    "    input_file_ua = os.path.join(base_path, \"code\\\\df_normalized_ua.csv\")\n",
    "    df_ua = pd.read_csv(input_file_ua)\n",
    "    input_file_cc = os.path.join(base_path, \"code\\\\df_normalized_cc.csv\")\n",
    "    df_cc = pd.read_csv(input_file_cc)\n",
    "\n",
    "else:\n",
    "    # 1. Load and prepare initial data\n",
    "    logger.info(\"Loading initial data...\")\n",
    "    df = load_initial_data(documents_path, annotations_file)\n",
    "    logger.info(f\"Loaded {len(df)} documents\")\n",
    "\n",
    "    # 2. Tokenize text\n",
    "    logger.info(\"Tokenizing text...\")\n",
    "    df = tokenize_text(df)\n",
    "\n",
    "    # 3. Handle unusual sentences\n",
    "    logger.info(\"Handling unusual sentences...\")\n",
    "    df = handle_unusual_sentences(df)\n",
    "\n",
    "    # 4. Normalize text\n",
    "    logger.info(\"Normalizing text...\")\n",
    "    df, df_ua, df_cc = normalize_text(df)\n",
    "    #print(df.head())\n",
    "    #print(df.columns)\n",
    "    #print(type(df['tokens_normalized'].iloc[0]))\n",
    "    #print(df['tokens_normalized'].iloc[0])\n",
    "    #print(df['narrative_subnarrative_pairs'].iloc[0])\n",
    "    \n",
    "    # 5. Convert to CoNLL-U format\n",
    "    # only use when ConLL-U format is needed\n",
    "    #logger.info(\"Converting to CoNLL-U format...\")\n",
    "    #convert_to_connlu(df, output_dir, 'tokens')\n",
    "    logger.info(\"Preprocessing completed successfully\")"
   ]
  },
  {
   "cell_type": "code",
   "execution_count": 3,
   "metadata": {},
   "outputs": [
    {
     "name": "stdout",
     "output_type": "stream",
     "text": [
      "(1175, 8) (519, 8) (1694, 8)\n"
     ]
    }
   ],
   "source": [
    "print(df_ua.shape, df_cc.shape, df.shape)"
   ]
  },
  {
   "cell_type": "code",
   "execution_count": 5,
   "metadata": {},
   "outputs": [],
   "source": [
    "def create_label_mapping(all_narratives):\n",
    "    \"\"\"\n",
    "    Create a consistent mapping for all narrative pairs\n",
    "    \n",
    "    Args:\n",
    "        all_narratives: List of lists of narrative dictionaries\n",
    "    \n",
    "    Returns:\n",
    "        dict: Mapping from narrative string to numeric index\n",
    "    \"\"\"\n",
    "    unique_narratives = set()\n",
    "    for narratives in all_narratives:\n",
    "        for narrative in narratives:\n",
    "            narrative_str = str(narrative)  # Convert dict to string\n",
    "            unique_narratives.add(narrative_str)\n",
    "    \n",
    "    # Create mapping\n",
    "    narrative_to_idx = {\n",
    "        narrative: idx \n",
    "        for idx, narrative in enumerate(sorted(unique_narratives))\n",
    "    }\n",
    "    \n",
    "    logger.info(f\"Created mapping for {len(narrative_to_idx)} unique narratives\")\n",
    "    return narrative_to_idx\n",
    "\n",
    "def get_first_narrative_label(narrative_list, label_mapping):\n",
    "    \"\"\"\n",
    "    Convert first narrative in list to numeric label\n",
    "    \n",
    "    Args:\n",
    "        narrative_list: List of narrative dictionaries\n",
    "        label_mapping: Dictionary mapping narrative strings to indices\n",
    "    \n",
    "    Returns:\n",
    "        int: Numeric label for the first narrative\n",
    "    \"\"\"\n",
    "    if narrative_list and len(narrative_list) > 0:\n",
    "        narrative_str = str(narrative_list[0])\n",
    "        return label_mapping[narrative_str]\n",
    "    return None\n",
    "\n",
    "def prepare_data(df, label_mapping=None):\n",
    "    \"\"\"\n",
    "    Prepare data for BERT training\n",
    "    \n",
    "    Args:\n",
    "        df: DataFrame containing tokens_normalized and narrative_subnarrative_pairs\n",
    "        label_mapping: Optional pre-existing label mapping to use\n",
    "    \n",
    "    Returns:\n",
    "        tuple: (texts, labels, label_mapping)\n",
    "    \"\"\"\n",
    "    try:\n",
    "        # Handle tokens_normalized\n",
    "        texts = df['tokens_normalized'].tolist()\n",
    "        texts = [' '.join(tokens) if isinstance(tokens, list) else tokens for tokens in texts]\n",
    "        \n",
    "        # Convert narrative_subnarrative_pairs to list if it's a string\n",
    "        narratives = df['narrative_subnarrative_pairs'].apply(\n",
    "            lambda x: eval(x) if isinstance(x, str) else x\n",
    "        ).tolist()\n",
    "\n",
    "        # Create or use label mapping\n",
    "        if label_mapping is None:\n",
    "            label_mapping = create_label_mapping(narratives)\n",
    "            \n",
    "        # Convert narratives to binary indicator format for multilabel classification\n",
    "        n_classes = len(label_mapping)\n",
    "        labels = []\n",
    "        for narrative_list in narratives:\n",
    "            label_vector = [0] * n_classes\n",
    "            for narrative in narrative_list:\n",
    "                narrative_str = str(narrative)  # Convert narrative dict to string\n",
    "                if narrative_str in label_mapping:\n",
    "                    label_vector[label_mapping[narrative_str]] = 1\n",
    "                else:\n",
    "                    raise ValueError(f\"Unknown narrative: {narrative_str}\")\n",
    "            labels.append(label_vector)\n",
    "\n",
    "        logger.info(f\"Number of unique labels in mapping: {len(label_mapping)}\")\n",
    "        logger.info(f\"Sample text: {texts[0][:100]}\")\n",
    "        logger.info(f\"Sample label: {labels[0]}\")\n",
    "        \n",
    "        return texts, labels, label_mapping\n",
    "\n",
    "    except Exception as e:\n",
    "        logger.error(f\"Error in prepare_data: {str(e)}\")\n",
    "        logger.error(f\"Sample narrative_subnarrative_pairs: {df['narrative_subnarrative_pairs'].iloc[0]}\")\n",
    "        raise\n",
    "\n",
    "def compute_metrics(pred):\n",
    "    \"\"\"\n",
    "    Compute evaluation metrics\n",
    "    \n",
    "    Args:\n",
    "        pred: Prediction object from trainer\n",
    "    \n",
    "    Returns:\n",
    "        dict: Dictionary containing computed metrics\n",
    "    \"\"\"\n",
    "    labels = pred.label_ids\n",
    "    preds = pred.predictions.argmax(-1)\n",
    "    precision, recall, f1, _ = precision_recall_fscore_support(labels, preds, average=\"micro\")\n",
    "    acc = accuracy_score(labels, preds)\n",
    "    return {\n",
    "        'accuracy': acc,\n",
    "        'f1': f1,\n",
    "        'precision': precision,\n",
    "        'recall': recall\n",
    "    }"
   ]
  },
  {
   "cell_type": "markdown",
   "metadata": {},
   "source": [
    "## Support Vector Machine\n",
    "\n",
    "### Training\n",
    "\n",
    "We vectorize the data with TF-IDF and train a SVM model.\n"
   ]
  },
  {
   "cell_type": "code",
   "execution_count": 6,
   "metadata": {},
   "outputs": [],
   "source": [
    "def bag_of_words(data):\n",
    "    \"\"\"\n",
    "    Convert list of tokenized sentences to bag of words format\n",
    "\n",
    "    Args:\n",
    "        data: List of lists of tokens\n",
    "\n",
    "    Returns:\n",
    "        list: Bag of words representation of data\n",
    "    \"\"\"\n",
    "    unique_words = set()\n",
    "    for sentence in data:\n",
    "        for token in sentence:\n",
    "            unique_words.add(token)\n",
    "    \n",
    "    unique_words = list(unique_words)\n",
    "    word_to_index = {word: i for i, word in enumerate(unique_words)}\n",
    "\n",
    "    bag_of_words = []\n",
    "    for sentence in data:\n",
    "        word_freq = [0] * len(unique_words)\n",
    "        for token in sentence:\n",
    "            word_freq[word_to_index[token]] += 1\n",
    "        bag_of_words.append(word_freq)\n",
    "\n",
    "    return bag_of_words"
   ]
  },
  {
   "cell_type": "code",
   "execution_count": 71,
   "metadata": {},
   "outputs": [],
   "source": [
    "from tqdm import tqdm\n",
    "\n",
    "def train_svm(df, base_path, vectorizer=\"tf-idf\", project_name=\"svm-training\"):\n",
    "    \"\"\"\n",
    "    Train an SVM model for multiclass multilabel classification.\n",
    "    \n",
    "    Args:\n",
    "        df: DataFrame containing the training data.\n",
    "        base_path: Base path for saving model outputs.\n",
    "        project_name: Name for the project (for logging, optional).\n",
    "    \n",
    "    Returns:\n",
    "        dict: Classification report.\n",
    "    \"\"\"\n",
    "    try:\n",
    "        # Create label mapping\n",
    "        all_narratives = df['narrative_subnarrative_pairs'].apply(\n",
    "            lambda x: eval(x) if isinstance(x, str) else x\n",
    "        ).tolist()\n",
    "        label_mapping = create_label_mapping(all_narratives)\n",
    "        \n",
    "        # Prepare data\n",
    "        texts, labels, label_mapping = prepare_data(df, label_mapping)\n",
    "\n",
    "        # shorten texts and labels to 15 instances for testing\n",
    "        # texts = texts[:15]\n",
    "        # labels = labels[:15]        \n",
    "\n",
    "        if vectorizer == \"tf-idf\":\n",
    "            # Vectorize text using TF-IDF\n",
    "            vectorizer = TfidfVectorizer(max_features=5000)\n",
    "            X = vectorizer.fit_transform(texts)\n",
    "        elif vectorizer == \"bag-of-words\":\n",
    "            # Vectorize text using Bag of Words\n",
    "            X = bag_of_words(texts)    \n",
    "        elif vectorizer == \"multilingual-embeddings\":\n",
    "            use_cached_embeddings = False\n",
    "            if use_cached_embeddings and os.path.exists(os.path.join(base_path, f\"code/models/{df.name}_multilingual_embeddings.npy\")):\n",
    "                X = np.load(os.path.join(base_path, f\"code/models/{df.name}_multilingual_embeddings.npy\"))\n",
    "            else:\n",
    "                # Load model directly\n",
    "                tokenizer = AutoTokenizer.from_pretrained(\"google-bert/bert-base-multilingual-uncased\")\n",
    "                model = AutoModelForMaskedLM.from_pretrained(\"google-bert/bert-base-multilingual-uncased\", output_hidden_states=True)\n",
    "                X = []\n",
    "                for text in tqdm(texts, desc=\"Calculating embeddings\"):\n",
    "                    inputs = tokenizer(text, return_tensors=\"pt\", padding=True, truncation=True)\n",
    "                    outputs = model(**inputs)\n",
    "                    embeddings = outputs.hidden_states[-1].mean(dim=1).detach().numpy()\n",
    "                    X.append(embeddings)\n",
    "                X = np.vstack(X)\n",
    "                \n",
    "                # Save embeddings\n",
    "                np.save(os.path.join(base_path, \"code/models/multilingual_embeddings.npy\"), X)\n",
    "        else:\n",
    "            raise ValueError(f\"Unknown vectorizer: {vectorizer}\")\n",
    "\n",
    "\n",
    "        # Split the data into training and testing sets\n",
    "        X_train, X_test, y_train, y_test = train_test_split(\n",
    "            X, labels, test_size=0.2, random_state=42,\n",
    "        )\n",
    "\n",
    "        # Train SVM using OneVsRestClassifier\n",
    "        model = OneVsRestClassifier(LinearSVC())\n",
    "        #print(\"shapes xtr, ytr, xte, yte\", X_train.shape, len(y_train), X_test.shape, len(y_test))\n",
    "        model.fit(X_train, y_train)\n",
    "\n",
    "        # Save model\n",
    "        joblib.dump(model, model_path)\n",
    "        \n",
    "        logger.info(f\"Model saved to {model_path}\")\n",
    "\n",
    "        # Evaluate model\n",
    "        y_pred = model.predict(X_test)\n",
    "\n",
    "        report = classification_report(y_test, y_pred, output_dict=True, zero_division=0)\n",
    "        #logger.info(\"Training classification report:\")\n",
    "        #logger.info(json.dumps(report, indent=2))\n",
    "\n",
    "\n",
    "        # count the occurrences of each narrative in the original data, training set, test set, and predictions for later analysis\n",
    "        flat_narratives = [item for sublist in df['narrative_subnarrative_pairs'].apply(eval) for item in sublist]\n",
    "        flat_labels = []\n",
    "        for narrative in flat_narratives:\n",
    "            narrative_str = str(narrative)\n",
    "            flat_labels.append(label_mapping[narrative_str])\n",
    "        onehot = pd.get_dummies(pd.Series(flat_labels)).to_numpy()\n",
    "        onehot = (onehot > 0).astype(int)\n",
    "\n",
    "        idx_to_label = {v: k for k, v in label_mapping.items()}\n",
    "\n",
    "        counts_original = pd.DataFrame(onehot).sum(axis=0).to_numpy()\n",
    "        counts_train = pd.DataFrame(y_train).sum(axis=0).to_numpy()\n",
    "        counts_test = pd.DataFrame(y_test).sum(axis=0).to_numpy()\n",
    "        counts_df = pd.DataFrame({\n",
    "            'Narrative Index': range(len(counts_original)),\n",
    "            'Occurrences in Original DF': counts_original,\n",
    "            'Occurrences in Train Set': counts_train,\n",
    "            'Occurrences in Test Set': counts_test,\n",
    "            'Occurrences in Predictions': [np.sum(y_pred[:, i]) for i in range(len(counts_original))],\n",
    "            'Narrative': [idx_to_label[i] for i in range(len(counts_original))]\n",
    "        })\n",
    "\n",
    "        # compute confusion matrix for later analysis\n",
    "        confusion_mtx = multilabel_confusion_matrix(y_test, y_pred)\n",
    "\n",
    "        return report, counts_df, confusion_mtx\n",
    "\n",
    "    except Exception as e:\n",
    "        raise logger.error(f\"Error in SVM training: {str(e)}\")\n",
    "        "
   ]
  },
  {
   "cell_type": "markdown",
   "metadata": {},
   "source": [
    "### Testing"
   ]
  },
  {
   "cell_type": "code",
   "execution_count": 68,
   "metadata": {},
   "outputs": [],
   "source": [
    "def predict_svm(text, model_path, vectorizer_path):\n",
    "    \"\"\"\n",
    "    Make predictions using the trained SVM model.\n",
    "    \n",
    "    Args:\n",
    "        text: Input text to classify.\n",
    "        model_path: Path to the saved SVM model.\n",
    "        vectorizer_path: Path to the saved TF-IDF vectorizer.\n",
    "    \n",
    "    Returns:\n",
    "        list: Predicted class indices.\n",
    "    \"\"\"\n",
    "    try:\n",
    "        # Load model and vectorizer\n",
    "        model = joblib.load(model_path)\n",
    "        vectorizer = joblib.load(vectorizer_path)\n",
    "        \n",
    "        # Load label mapping\n",
    "        with open(os.path.join(os.path.dirname(model_path), \"label_mapping.json\"), 'r') as f:\n",
    "            label_mapping = json.load(f)\n",
    "        \n",
    "        # Convert label indices to their original labels\n",
    "        idx_to_label = {v: k for k, v in label_mapping.items()}\n",
    "        \n",
    "        # Transform input text using vectorizer\n",
    "        X = vectorizer.transform([text])\n",
    "        \n",
    "        # Predict\n",
    "        predictions = model.predict(X)[0]\n",
    "        predicted_labels = [idx_to_label[idx] for idx in range(len(predictions)) if predictions[idx] == 1]\n",
    "        print(predicted_labels)\n",
    "        return predicted_labels\n",
    "\n",
    "    except Exception as e:\n",
    "        logger.error(f\"Error in SVM prediction: {str(e)}\")\n",
    "        raise"
   ]
  },
  {
   "cell_type": "markdown",
   "metadata": {},
   "source": [
    "### TF-IDF"
   ]
  },
  {
   "cell_type": "code",
   "execution_count": 69,
   "metadata": {},
   "outputs": [
    {
     "name": "stdout",
     "output_type": "stream",
     "text": [
      "2025-01-05 19:46:54,366 - __main__ - INFO - Starting SVM training with TF-IDF on Ukraine War data...\n"
     ]
    },
    {
     "name": "stdout",
     "output_type": "stream",
     "text": [
      "2025-01-05 19:46:54,458 - __main__ - INFO - Created mapping for 50 unique narratives\n",
      "2025-01-05 19:46:54,526 - __main__ - INFO - Number of unique labels in mapping: 50\n",
      "2025-01-05 19:46:54,527 - __main__ - INFO - Sample text: ['russia', 'clash', 'erupt', 'bashkortostan', 'right', 'activist', 'sentence', 'russian', 'riot', 'p\n",
      "2025-01-05 19:46:54,528 - __main__ - INFO - Sample label: [0, 0, 0, 0, 0, 0, 0, 0, 0, 0, 0, 0, 0, 0, 0, 0, 0, 0, 0, 0, 0, 0, 0, 0, 0, 0, 0, 0, 0, 0, 0, 1, 0, 0, 0, 0, 0, 0, 0, 0, 0, 0, 0, 0, 0, 0, 0, 0, 0, 0]\n",
      "2025-01-05 19:46:54,583 - __main__ - INFO - Model saved to c:\\Users\\nikla\\Documents\\Uni\\Master\\Semester1\\3 NLP and Information Extraction\\nlp_Backpropagandists_2024\\code/models/svm_model.joblib\n",
      "2025-01-05 19:46:54,672 - __main__ - INFO - SVM training completed.\n"
     ]
    },
    {
     "name": "stderr",
     "output_type": "stream",
     "text": [
      "c:\\Users\\nikla\\AppData\\Local\\Programs\\Python\\Python312\\Lib\\site-packages\\sklearn\\multiclass.py:87: UserWarning: Label not 0 is present in all training examples.\n",
      "  warnings.warn(\n",
      "c:\\Users\\nikla\\AppData\\Local\\Programs\\Python\\Python312\\Lib\\site-packages\\sklearn\\multiclass.py:87: UserWarning: Label not 1 is present in all training examples.\n",
      "  warnings.warn(\n",
      "c:\\Users\\nikla\\AppData\\Local\\Programs\\Python\\Python312\\Lib\\site-packages\\sklearn\\multiclass.py:87: UserWarning: Label not 2 is present in all training examples.\n",
      "  warnings.warn(\n",
      "c:\\Users\\nikla\\AppData\\Local\\Programs\\Python\\Python312\\Lib\\site-packages\\sklearn\\multiclass.py:87: UserWarning: Label not 4 is present in all training examples.\n",
      "  warnings.warn(\n",
      "c:\\Users\\nikla\\AppData\\Local\\Programs\\Python\\Python312\\Lib\\site-packages\\sklearn\\multiclass.py:87: UserWarning: Label not 5 is present in all training examples.\n",
      "  warnings.warn(\n",
      "c:\\Users\\nikla\\AppData\\Local\\Programs\\Python\\Python312\\Lib\\site-packages\\sklearn\\multiclass.py:87: UserWarning: Label not 7 is present in all training examples.\n",
      "  warnings.warn(\n",
      "c:\\Users\\nikla\\AppData\\Local\\Programs\\Python\\Python312\\Lib\\site-packages\\sklearn\\multiclass.py:87: UserWarning: Label not 8 is present in all training examples.\n",
      "  warnings.warn(\n",
      "c:\\Users\\nikla\\AppData\\Local\\Programs\\Python\\Python312\\Lib\\site-packages\\sklearn\\multiclass.py:87: UserWarning: Label not 10 is present in all training examples.\n",
      "  warnings.warn(\n",
      "c:\\Users\\nikla\\AppData\\Local\\Programs\\Python\\Python312\\Lib\\site-packages\\sklearn\\multiclass.py:87: UserWarning: Label not 11 is present in all training examples.\n",
      "  warnings.warn(\n",
      "c:\\Users\\nikla\\AppData\\Local\\Programs\\Python\\Python312\\Lib\\site-packages\\sklearn\\multiclass.py:87: UserWarning: Label not 12 is present in all training examples.\n",
      "  warnings.warn(\n",
      "c:\\Users\\nikla\\AppData\\Local\\Programs\\Python\\Python312\\Lib\\site-packages\\sklearn\\multiclass.py:87: UserWarning: Label not 13 is present in all training examples.\n",
      "  warnings.warn(\n",
      "c:\\Users\\nikla\\AppData\\Local\\Programs\\Python\\Python312\\Lib\\site-packages\\sklearn\\multiclass.py:87: UserWarning: Label not 14 is present in all training examples.\n",
      "  warnings.warn(\n",
      "c:\\Users\\nikla\\AppData\\Local\\Programs\\Python\\Python312\\Lib\\site-packages\\sklearn\\multiclass.py:87: UserWarning: Label not 15 is present in all training examples.\n",
      "  warnings.warn(\n",
      "c:\\Users\\nikla\\AppData\\Local\\Programs\\Python\\Python312\\Lib\\site-packages\\sklearn\\multiclass.py:87: UserWarning: Label not 16 is present in all training examples.\n",
      "  warnings.warn(\n",
      "c:\\Users\\nikla\\AppData\\Local\\Programs\\Python\\Python312\\Lib\\site-packages\\sklearn\\multiclass.py:87: UserWarning: Label not 17 is present in all training examples.\n",
      "  warnings.warn(\n",
      "c:\\Users\\nikla\\AppData\\Local\\Programs\\Python\\Python312\\Lib\\site-packages\\sklearn\\multiclass.py:87: UserWarning: Label not 20 is present in all training examples.\n",
      "  warnings.warn(\n",
      "c:\\Users\\nikla\\AppData\\Local\\Programs\\Python\\Python312\\Lib\\site-packages\\sklearn\\multiclass.py:87: UserWarning: Label not 21 is present in all training examples.\n",
      "  warnings.warn(\n",
      "c:\\Users\\nikla\\AppData\\Local\\Programs\\Python\\Python312\\Lib\\site-packages\\sklearn\\multiclass.py:87: UserWarning: Label not 22 is present in all training examples.\n",
      "  warnings.warn(\n",
      "c:\\Users\\nikla\\AppData\\Local\\Programs\\Python\\Python312\\Lib\\site-packages\\sklearn\\multiclass.py:87: UserWarning: Label not 23 is present in all training examples.\n",
      "  warnings.warn(\n",
      "c:\\Users\\nikla\\AppData\\Local\\Programs\\Python\\Python312\\Lib\\site-packages\\sklearn\\multiclass.py:87: UserWarning: Label not 24 is present in all training examples.\n",
      "  warnings.warn(\n",
      "c:\\Users\\nikla\\AppData\\Local\\Programs\\Python\\Python312\\Lib\\site-packages\\sklearn\\multiclass.py:87: UserWarning: Label not 25 is present in all training examples.\n",
      "  warnings.warn(\n",
      "c:\\Users\\nikla\\AppData\\Local\\Programs\\Python\\Python312\\Lib\\site-packages\\sklearn\\multiclass.py:87: UserWarning: Label not 26 is present in all training examples.\n",
      "  warnings.warn(\n",
      "c:\\Users\\nikla\\AppData\\Local\\Programs\\Python\\Python312\\Lib\\site-packages\\sklearn\\multiclass.py:87: UserWarning: Label not 27 is present in all training examples.\n",
      "  warnings.warn(\n",
      "c:\\Users\\nikla\\AppData\\Local\\Programs\\Python\\Python312\\Lib\\site-packages\\sklearn\\multiclass.py:87: UserWarning: Label not 28 is present in all training examples.\n",
      "  warnings.warn(\n",
      "c:\\Users\\nikla\\AppData\\Local\\Programs\\Python\\Python312\\Lib\\site-packages\\sklearn\\multiclass.py:87: UserWarning: Label not 29 is present in all training examples.\n",
      "  warnings.warn(\n",
      "c:\\Users\\nikla\\AppData\\Local\\Programs\\Python\\Python312\\Lib\\site-packages\\sklearn\\multiclass.py:87: UserWarning: Label not 30 is present in all training examples.\n",
      "  warnings.warn(\n",
      "c:\\Users\\nikla\\AppData\\Local\\Programs\\Python\\Python312\\Lib\\site-packages\\sklearn\\multiclass.py:87: UserWarning: Label not 32 is present in all training examples.\n",
      "  warnings.warn(\n",
      "c:\\Users\\nikla\\AppData\\Local\\Programs\\Python\\Python312\\Lib\\site-packages\\sklearn\\multiclass.py:87: UserWarning: Label not 33 is present in all training examples.\n",
      "  warnings.warn(\n",
      "c:\\Users\\nikla\\AppData\\Local\\Programs\\Python\\Python312\\Lib\\site-packages\\sklearn\\multiclass.py:87: UserWarning: Label not 34 is present in all training examples.\n",
      "  warnings.warn(\n",
      "c:\\Users\\nikla\\AppData\\Local\\Programs\\Python\\Python312\\Lib\\site-packages\\sklearn\\multiclass.py:87: UserWarning: Label not 35 is present in all training examples.\n",
      "  warnings.warn(\n",
      "c:\\Users\\nikla\\AppData\\Local\\Programs\\Python\\Python312\\Lib\\site-packages\\sklearn\\multiclass.py:87: UserWarning: Label not 36 is present in all training examples.\n",
      "  warnings.warn(\n",
      "c:\\Users\\nikla\\AppData\\Local\\Programs\\Python\\Python312\\Lib\\site-packages\\sklearn\\multiclass.py:87: UserWarning: Label not 37 is present in all training examples.\n",
      "  warnings.warn(\n",
      "c:\\Users\\nikla\\AppData\\Local\\Programs\\Python\\Python312\\Lib\\site-packages\\sklearn\\multiclass.py:87: UserWarning: Label not 40 is present in all training examples.\n",
      "  warnings.warn(\n",
      "c:\\Users\\nikla\\AppData\\Local\\Programs\\Python\\Python312\\Lib\\site-packages\\sklearn\\multiclass.py:87: UserWarning: Label not 41 is present in all training examples.\n",
      "  warnings.warn(\n",
      "c:\\Users\\nikla\\AppData\\Local\\Programs\\Python\\Python312\\Lib\\site-packages\\sklearn\\multiclass.py:87: UserWarning: Label not 42 is present in all training examples.\n",
      "  warnings.warn(\n",
      "c:\\Users\\nikla\\AppData\\Local\\Programs\\Python\\Python312\\Lib\\site-packages\\sklearn\\multiclass.py:87: UserWarning: Label not 43 is present in all training examples.\n",
      "  warnings.warn(\n",
      "c:\\Users\\nikla\\AppData\\Local\\Programs\\Python\\Python312\\Lib\\site-packages\\sklearn\\multiclass.py:87: UserWarning: Label not 45 is present in all training examples.\n",
      "  warnings.warn(\n",
      "c:\\Users\\nikla\\AppData\\Local\\Programs\\Python\\Python312\\Lib\\site-packages\\sklearn\\multiclass.py:87: UserWarning: Label not 48 is present in all training examples.\n",
      "  warnings.warn(\n",
      "c:\\Users\\nikla\\AppData\\Local\\Programs\\Python\\Python312\\Lib\\site-packages\\sklearn\\multiclass.py:87: UserWarning: Label not 49 is present in all training examples.\n",
      "  warnings.warn(\n"
     ]
    }
   ],
   "source": [
    "logger.info(\"Starting SVM training with TF-IDF on Ukraine War data...\")\n",
    "training_results_tfidf_ua, counts_df_tfidf_ua, conf_matr_tfidf_ua = train_svm(df_ua, base_path)\n",
    "logger.info(f\"SVM training completed.\")\n"
   ]
  },
  {
   "cell_type": "code",
   "execution_count": 59,
   "metadata": {},
   "outputs": [
    {
     "name": "stdout",
     "output_type": "stream",
     "text": [
      "2025-01-05 19:40:31,492 - __main__ - INFO - Starting SVM training with TF-IDF on Climate Change data...\n"
     ]
    },
    {
     "name": "stdout",
     "output_type": "stream",
     "text": [
      "2025-01-05 19:40:31,532 - __main__ - INFO - Created mapping for 46 unique narratives\n",
      "2025-01-05 19:40:31,591 - __main__ - INFO - Number of unique labels in mapping: 46\n",
      "2025-01-05 19:40:31,593 - __main__ - INFO - Sample text: ['bill', 'gate', 'say', 'solution', 'climate', 'change', 'ok', 'four', 'private', 'jet', 'bill', 'ga\n",
      "2025-01-05 19:40:31,594 - __main__ - INFO - Sample label: [0, 0, 0, 0, 0, 0, 0, 0, 0, 0, 0, 0, 1, 0, 0, 0, 0, 0, 0, 0, 0, 0, 0, 0, 0, 0, 0, 0, 0, 0, 0, 0, 0, 0, 0, 0, 0, 0, 0, 0, 0, 0, 0, 0, 0, 0]\n"
     ]
    },
    {
     "name": "stderr",
     "output_type": "stream",
     "text": [
      "c:\\Users\\nikla\\AppData\\Local\\Programs\\Python\\Python312\\Lib\\site-packages\\sklearn\\multiclass.py:87: UserWarning: Label not 6 is present in all training examples.\n",
      "  warnings.warn(\n"
     ]
    },
    {
     "name": "stdout",
     "output_type": "stream",
     "text": [
      "2025-01-05 19:40:32,109 - __main__ - INFO - Model saved to c:\\Users\\nikla\\Documents\\Uni\\Master\\Semester1\\3 NLP and Information Extraction\\nlp_Backpropagandists_2024\\code/models/svm_model.joblib\n",
      "2025-01-05 19:40:32,201 - __main__ - INFO - SVM training completed.\n"
     ]
    }
   ],
   "source": [
    "logger.info(\"Starting SVM training with TF-IDF on Climate Change data...\")\n",
    "training_results_tfidf_cc, counts_df_tfidf_cc, conf_matr_tfidf_cc = train_svm(df_cc, base_path)\n",
    "logger.info(f\"SVM training completed.\")"
   ]
  },
  {
   "cell_type": "code",
   "execution_count": 60,
   "metadata": {},
   "outputs": [
    {
     "name": "stdout",
     "output_type": "stream",
     "text": [
      "2025-01-05 19:40:33,385 - __main__ - INFO - Starting SVM training with TF-IDF on the complete data...\n"
     ]
    },
    {
     "name": "stdout",
     "output_type": "stream",
     "text": [
      "2025-01-05 19:40:33,569 - __main__ - INFO - Created mapping for 94 unique narratives\n",
      "2025-01-05 19:40:33,685 - __main__ - INFO - Number of unique labels in mapping: 94\n",
      "2025-01-05 19:40:33,685 - __main__ - INFO - Sample text: ['bill', 'gate', 'say', 'solution', 'climate', 'change', 'ok', 'four', 'private', 'jet', 'bill', 'ga\n",
      "2025-01-05 19:40:33,685 - __main__ - INFO - Sample label: [0, 0, 0, 0, 0, 0, 0, 0, 0, 0, 0, 0, 0, 0, 0, 0, 0, 0, 0, 0, 1, 0, 0, 0, 0, 0, 0, 0, 0, 0, 0, 0, 0, 0, 0, 0, 0, 0, 0, 0, 0, 0, 0, 0, 0, 0, 0, 0, 0, 0, 0, 0, 0, 0, 0, 0, 0, 0, 0, 0, 0, 0, 0, 0, 0, 0, 0, 0, 0, 0, 0, 0, 0, 0, 0, 0, 0, 0, 0, 0, 0, 0, 0, 0, 0, 0, 0, 0, 0, 0, 0, 0, 0, 0]\n",
      "2025-01-05 19:40:35,334 - __main__ - INFO - Model saved to c:\\Users\\nikla\\Documents\\Uni\\Master\\Semester1\\3 NLP and Information Extraction\\nlp_Backpropagandists_2024\\code/models/svm_model.joblib\n",
      "2025-01-05 19:40:35,517 - __main__ - INFO - SVM training completed.\n"
     ]
    }
   ],
   "source": [
    "logger.info(\"Starting SVM training with TF-IDF on the complete data...\")\n",
    "training_results_tfidf_compl, counts_df_tfidf_compl, conf_matr_tfidf_compl = train_svm(df, base_path)\n",
    "logger.info(f\"SVM training completed.\")"
   ]
  },
  {
   "cell_type": "markdown",
   "metadata": {},
   "source": [
    "### Bag-Of-Words"
   ]
  },
  {
   "cell_type": "code",
   "execution_count": 61,
   "metadata": {},
   "outputs": [
    {
     "name": "stdout",
     "output_type": "stream",
     "text": [
      "2025-01-05 19:40:37,358 - __main__ - INFO - Starting SVM training with Bag-Of-Words on Ukraine War data...\n",
      "2025-01-05 19:40:37,485 - __main__ - INFO - Created mapping for 50 unique narratives\n",
      "2025-01-05 19:40:37,605 - __main__ - INFO - Number of unique labels in mapping: 50\n",
      "2025-01-05 19:40:37,605 - __main__ - INFO - Sample text: ['russia', 'clash', 'erupt', 'bashkortostan', 'right', 'activist', 'sentence', 'russian', 'riot', 'p\n",
      "2025-01-05 19:40:37,605 - __main__ - INFO - Sample label: [0, 0, 0, 0, 0, 0, 0, 0, 0, 0, 0, 0, 0, 0, 0, 0, 0, 0, 0, 0, 0, 0, 0, 0, 0, 0, 0, 0, 0, 0, 0, 1, 0, 0, 0, 0, 0, 0, 0, 0, 0, 0, 0, 0, 0, 0, 0, 0, 0, 0]\n"
     ]
    },
    {
     "name": "stderr",
     "output_type": "stream",
     "text": [
      "c:\\Users\\nikla\\AppData\\Local\\Programs\\Python\\Python312\\Lib\\site-packages\\sklearn\\svm\\_base.py:1235: ConvergenceWarning: Liblinear failed to converge, increase the number of iterations.\n",
      "  warnings.warn(\n",
      "c:\\Users\\nikla\\AppData\\Local\\Programs\\Python\\Python312\\Lib\\site-packages\\sklearn\\svm\\_base.py:1235: ConvergenceWarning: Liblinear failed to converge, increase the number of iterations.\n",
      "  warnings.warn(\n",
      "c:\\Users\\nikla\\AppData\\Local\\Programs\\Python\\Python312\\Lib\\site-packages\\sklearn\\svm\\_base.py:1235: ConvergenceWarning: Liblinear failed to converge, increase the number of iterations.\n",
      "  warnings.warn(\n",
      "c:\\Users\\nikla\\AppData\\Local\\Programs\\Python\\Python312\\Lib\\site-packages\\sklearn\\svm\\_base.py:1235: ConvergenceWarning: Liblinear failed to converge, increase the number of iterations.\n",
      "  warnings.warn(\n",
      "c:\\Users\\nikla\\AppData\\Local\\Programs\\Python\\Python312\\Lib\\site-packages\\sklearn\\svm\\_base.py:1235: ConvergenceWarning: Liblinear failed to converge, increase the number of iterations.\n",
      "  warnings.warn(\n",
      "c:\\Users\\nikla\\AppData\\Local\\Programs\\Python\\Python312\\Lib\\site-packages\\sklearn\\svm\\_base.py:1235: ConvergenceWarning: Liblinear failed to converge, increase the number of iterations.\n",
      "  warnings.warn(\n"
     ]
    },
    {
     "name": "stdout",
     "output_type": "stream",
     "text": [
      "2025-01-05 19:40:43,861 - __main__ - INFO - Model saved to c:\\Users\\nikla\\Documents\\Uni\\Master\\Semester1\\3 NLP and Information Extraction\\nlp_Backpropagandists_2024\\code/models/svm_model.joblib\n",
      "2025-01-05 19:40:44,064 - __main__ - INFO - SVM training completed.\n"
     ]
    }
   ],
   "source": [
    "# ukraine war data\n",
    "logger.info(\"Starting SVM training with Bag-Of-Words on Ukraine War data...\")\n",
    "training_results_bow_ua, counts_df_bow_ua, conf_matr_bow_ua = train_svm(df_ua, base_path, vectorizer=\"bag-of-words\")\n",
    "logger.info(f\"SVM training completed.\")"
   ]
  },
  {
   "cell_type": "code",
   "execution_count": 62,
   "metadata": {},
   "outputs": [
    {
     "name": "stdout",
     "output_type": "stream",
     "text": [
      "2025-01-05 19:40:45,728 - __main__ - INFO - Starting SVM training with Bag-Of-Words on Climate Change data...\n"
     ]
    },
    {
     "name": "stdout",
     "output_type": "stream",
     "text": [
      "2025-01-05 19:40:45,770 - __main__ - INFO - Created mapping for 46 unique narratives\n",
      "2025-01-05 19:40:45,827 - __main__ - INFO - Number of unique labels in mapping: 46\n",
      "2025-01-05 19:40:45,828 - __main__ - INFO - Sample text: ['bill', 'gate', 'say', 'solution', 'climate', 'change', 'ok', 'four', 'private', 'jet', 'bill', 'ga\n",
      "2025-01-05 19:40:45,829 - __main__ - INFO - Sample label: [0, 0, 0, 0, 0, 0, 0, 0, 0, 0, 0, 0, 1, 0, 0, 0, 0, 0, 0, 0, 0, 0, 0, 0, 0, 0, 0, 0, 0, 0, 0, 0, 0, 0, 0, 0, 0, 0, 0, 0, 0, 0, 0, 0, 0, 0]\n"
     ]
    },
    {
     "name": "stderr",
     "output_type": "stream",
     "text": [
      "c:\\Users\\nikla\\AppData\\Local\\Programs\\Python\\Python312\\Lib\\site-packages\\sklearn\\multiclass.py:87: UserWarning: Label not 6 is present in all training examples.\n",
      "  warnings.warn(\n",
      "c:\\Users\\nikla\\AppData\\Local\\Programs\\Python\\Python312\\Lib\\site-packages\\sklearn\\svm\\_base.py:1235: ConvergenceWarning: Liblinear failed to converge, increase the number of iterations.\n",
      "  warnings.warn(\n",
      "c:\\Users\\nikla\\AppData\\Local\\Programs\\Python\\Python312\\Lib\\site-packages\\sklearn\\svm\\_base.py:1235: ConvergenceWarning: Liblinear failed to converge, increase the number of iterations.\n",
      "  warnings.warn(\n",
      "c:\\Users\\nikla\\AppData\\Local\\Programs\\Python\\Python312\\Lib\\site-packages\\sklearn\\svm\\_base.py:1235: ConvergenceWarning: Liblinear failed to converge, increase the number of iterations.\n",
      "  warnings.warn(\n",
      "c:\\Users\\nikla\\AppData\\Local\\Programs\\Python\\Python312\\Lib\\site-packages\\sklearn\\svm\\_base.py:1235: ConvergenceWarning: Liblinear failed to converge, increase the number of iterations.\n",
      "  warnings.warn(\n",
      "c:\\Users\\nikla\\AppData\\Local\\Programs\\Python\\Python312\\Lib\\site-packages\\sklearn\\svm\\_base.py:1235: ConvergenceWarning: Liblinear failed to converge, increase the number of iterations.\n",
      "  warnings.warn(\n"
     ]
    },
    {
     "name": "stdout",
     "output_type": "stream",
     "text": [
      "2025-01-05 19:40:47,945 - __main__ - INFO - Model saved to c:\\Users\\nikla\\Documents\\Uni\\Master\\Semester1\\3 NLP and Information Extraction\\nlp_Backpropagandists_2024\\code/models/svm_model.joblib\n",
      "2025-01-05 19:40:48,062 - __main__ - INFO - SVM training completed.\n"
     ]
    },
    {
     "name": "stderr",
     "output_type": "stream",
     "text": [
      "c:\\Users\\nikla\\AppData\\Local\\Programs\\Python\\Python312\\Lib\\site-packages\\sklearn\\svm\\_base.py:1235: ConvergenceWarning: Liblinear failed to converge, increase the number of iterations.\n",
      "  warnings.warn(\n",
      "c:\\Users\\nikla\\AppData\\Local\\Programs\\Python\\Python312\\Lib\\site-packages\\sklearn\\svm\\_base.py:1235: ConvergenceWarning: Liblinear failed to converge, increase the number of iterations.\n",
      "  warnings.warn(\n"
     ]
    }
   ],
   "source": [
    "# climate change data\n",
    "logger.info(\"Starting SVM training with Bag-Of-Words on Climate Change data...\")\n",
    "training_results_bow_cc, counts_df_bow_cc, conf_matr_bow_cc = train_svm(df_cc, base_path, vectorizer=\"bag-of-words\")\n",
    "logger.info(f\"SVM training completed.\")"
   ]
  },
  {
   "cell_type": "code",
   "execution_count": 63,
   "metadata": {},
   "outputs": [
    {
     "name": "stdout",
     "output_type": "stream",
     "text": [
      "2025-01-05 19:41:03,501 - __main__ - INFO - Starting SVM training with Bag-Of-Words on the complete data...\n"
     ]
    },
    {
     "name": "stdout",
     "output_type": "stream",
     "text": [
      "2025-01-05 19:41:03,708 - __main__ - INFO - Created mapping for 94 unique narratives\n",
      "2025-01-05 19:41:03,853 - __main__ - INFO - Number of unique labels in mapping: 94\n",
      "2025-01-05 19:41:03,859 - __main__ - INFO - Sample text: ['bill', 'gate', 'say', 'solution', 'climate', 'change', 'ok', 'four', 'private', 'jet', 'bill', 'ga\n",
      "2025-01-05 19:41:03,862 - __main__ - INFO - Sample label: [0, 0, 0, 0, 0, 0, 0, 0, 0, 0, 0, 0, 0, 0, 0, 0, 0, 0, 0, 0, 1, 0, 0, 0, 0, 0, 0, 0, 0, 0, 0, 0, 0, 0, 0, 0, 0, 0, 0, 0, 0, 0, 0, 0, 0, 0, 0, 0, 0, 0, 0, 0, 0, 0, 0, 0, 0, 0, 0, 0, 0, 0, 0, 0, 0, 0, 0, 0, 0, 0, 0, 0, 0, 0, 0, 0, 0, 0, 0, 0, 0, 0, 0, 0, 0, 0, 0, 0, 0, 0, 0, 0, 0, 0]\n"
     ]
    },
    {
     "name": "stderr",
     "output_type": "stream",
     "text": [
      "c:\\Users\\nikla\\AppData\\Local\\Programs\\Python\\Python312\\Lib\\site-packages\\sklearn\\svm\\_base.py:1235: ConvergenceWarning: Liblinear failed to converge, increase the number of iterations.\n",
      "  warnings.warn(\n",
      "c:\\Users\\nikla\\AppData\\Local\\Programs\\Python\\Python312\\Lib\\site-packages\\sklearn\\svm\\_base.py:1235: ConvergenceWarning: Liblinear failed to converge, increase the number of iterations.\n",
      "  warnings.warn(\n",
      "c:\\Users\\nikla\\AppData\\Local\\Programs\\Python\\Python312\\Lib\\site-packages\\sklearn\\svm\\_base.py:1235: ConvergenceWarning: Liblinear failed to converge, increase the number of iterations.\n",
      "  warnings.warn(\n",
      "c:\\Users\\nikla\\AppData\\Local\\Programs\\Python\\Python312\\Lib\\site-packages\\sklearn\\svm\\_base.py:1235: ConvergenceWarning: Liblinear failed to converge, increase the number of iterations.\n",
      "  warnings.warn(\n",
      "c:\\Users\\nikla\\AppData\\Local\\Programs\\Python\\Python312\\Lib\\site-packages\\sklearn\\svm\\_base.py:1235: ConvergenceWarning: Liblinear failed to converge, increase the number of iterations.\n",
      "  warnings.warn(\n",
      "c:\\Users\\nikla\\AppData\\Local\\Programs\\Python\\Python312\\Lib\\site-packages\\sklearn\\svm\\_base.py:1235: ConvergenceWarning: Liblinear failed to converge, increase the number of iterations.\n",
      "  warnings.warn(\n",
      "c:\\Users\\nikla\\AppData\\Local\\Programs\\Python\\Python312\\Lib\\site-packages\\sklearn\\svm\\_base.py:1235: ConvergenceWarning: Liblinear failed to converge, increase the number of iterations.\n",
      "  warnings.warn(\n",
      "c:\\Users\\nikla\\AppData\\Local\\Programs\\Python\\Python312\\Lib\\site-packages\\sklearn\\svm\\_base.py:1235: ConvergenceWarning: Liblinear failed to converge, increase the number of iterations.\n",
      "  warnings.warn(\n"
     ]
    },
    {
     "name": "stdout",
     "output_type": "stream",
     "text": [
      "2025-01-05 19:41:15,906 - __main__ - INFO - Model saved to c:\\Users\\nikla\\Documents\\Uni\\Master\\Semester1\\3 NLP and Information Extraction\\nlp_Backpropagandists_2024\\code/models/svm_model.joblib\n",
      "2025-01-05 19:41:16,451 - __main__ - INFO - SVM training completed.\n"
     ]
    }
   ],
   "source": [
    "logger.info(\"Starting SVM training with Bag-Of-Words on the complete data...\")\n",
    "training_results_bow_compl, counts_df_bow_compl, conf_matr_bow_compl = train_svm(df, base_path, vectorizer=\"bag-of-words\")\n",
    "logger.info(f\"SVM training completed.\")"
   ]
  },
  {
   "cell_type": "markdown",
   "metadata": {},
   "source": [
    "## Multilingual Embeddings"
   ]
  },
  {
   "cell_type": "code",
   "execution_count": 75,
   "metadata": {},
   "outputs": [
    {
     "name": "stdout",
     "output_type": "stream",
     "text": [
      "2025-01-05 19:57:27,783 - __main__ - INFO - Starting SVM training with Multilingual Embeddings on Ukraine War data...\n"
     ]
    },
    {
     "name": "stdout",
     "output_type": "stream",
     "text": [
      "2025-01-05 19:57:27,851 - __main__ - INFO - Created mapping for 50 unique narratives\n",
      "2025-01-05 19:57:27,907 - __main__ - INFO - Number of unique labels in mapping: 50\n",
      "2025-01-05 19:57:27,909 - __main__ - INFO - Sample text: ['russia', 'clash', 'erupt', 'bashkortostan', 'right', 'activist', 'sentence', 'russian', 'riot', 'p\n",
      "2025-01-05 19:57:27,909 - __main__ - INFO - Sample label: [0, 0, 0, 0, 0, 0, 0, 0, 0, 0, 0, 0, 0, 0, 0, 0, 0, 0, 0, 0, 0, 0, 0, 0, 0, 0, 0, 0, 0, 0, 0, 1, 0, 0, 0, 0, 0, 0, 0, 0, 0, 0, 0, 0, 0, 0, 0, 0, 0, 0]\n"
     ]
    },
    {
     "name": "stderr",
     "output_type": "stream",
     "text": [
      "c:\\Users\\nikla\\AppData\\Local\\Programs\\Python\\Python312\\Lib\\site-packages\\transformers\\generation\\configuration_utils.py:774: UserWarning: `return_dict_in_generate` is NOT set to `True`, but `output_hidden_states` is. When `return_dict_in_generate` is not `True`, `output_hidden_states` is ignored.\n",
      "  warnings.warn(\n",
      "Some weights of the model checkpoint at google-bert/bert-base-multilingual-uncased were not used when initializing BertForMaskedLM: ['bert.pooler.dense.bias', 'bert.pooler.dense.weight', 'cls.seq_relationship.bias', 'cls.seq_relationship.weight']\n",
      "- This IS expected if you are initializing BertForMaskedLM from the checkpoint of a model trained on another task or with another architecture (e.g. initializing a BertForSequenceClassification model from a BertForPreTraining model).\n",
      "- This IS NOT expected if you are initializing BertForMaskedLM from the checkpoint of a model that you expect to be exactly identical (initializing a BertForSequenceClassification model from a BertForSequenceClassification model).\n",
      "Calculating embeddings: 100%|██████████| 1175/1175 [43:34<00:00,  2.22s/it]\n"
     ]
    },
    {
     "name": "stdout",
     "output_type": "stream",
     "text": [
      "2025-01-05 20:41:13,437 - __main__ - INFO - Model saved to c:\\Users\\nikla\\Documents\\Uni\\Master\\Semester1\\3 NLP and Information Extraction\\nlp_Backpropagandists_2024\\code/models/svm_model.joblib\n",
      "2025-01-05 20:41:13,770 - __main__ - INFO - SVM training completed.\n"
     ]
    }
   ],
   "source": [
    "# multilingual embeddings\n",
    "logger.info(\"Starting SVM training with Multilingual Embeddings on Ukraine War data...\")\n",
    "training_results_mult_ua, counts_df_mult_ua, conf_matr_mult_ua = train_svm(df_ua, base_path, vectorizer=\"multilingual-embeddings\")\n",
    "logger.info(f\"SVM training completed.\")"
   ]
  },
  {
   "cell_type": "code",
   "execution_count": 76,
   "metadata": {},
   "outputs": [
    {
     "name": "stdout",
     "output_type": "stream",
     "text": [
      "2025-01-05 20:41:13,786 - __main__ - INFO - Starting SVM training with Multilingual Embeddings on Climate Change data...\n",
      "2025-01-05 20:41:13,826 - __main__ - INFO - Created mapping for 46 unique narratives\n",
      "2025-01-05 20:41:13,889 - __main__ - INFO - Number of unique labels in mapping: 46\n",
      "2025-01-05 20:41:13,889 - __main__ - INFO - Sample text: ['bill', 'gate', 'say', 'solution', 'climate', 'change', 'ok', 'four', 'private', 'jet', 'bill', 'ga\n",
      "2025-01-05 20:41:13,889 - __main__ - INFO - Sample label: [0, 0, 0, 0, 0, 0, 0, 0, 0, 0, 0, 0, 1, 0, 0, 0, 0, 0, 0, 0, 0, 0, 0, 0, 0, 0, 0, 0, 0, 0, 0, 0, 0, 0, 0, 0, 0, 0, 0, 0, 0, 0, 0, 0, 0, 0]\n"
     ]
    },
    {
     "name": "stderr",
     "output_type": "stream",
     "text": [
      "c:\\Users\\nikla\\AppData\\Local\\Programs\\Python\\Python312\\Lib\\site-packages\\transformers\\generation\\configuration_utils.py:774: UserWarning: `return_dict_in_generate` is NOT set to `True`, but `output_hidden_states` is. When `return_dict_in_generate` is not `True`, `output_hidden_states` is ignored.\n",
      "  warnings.warn(\n",
      "Some weights of the model checkpoint at google-bert/bert-base-multilingual-uncased were not used when initializing BertForMaskedLM: ['bert.pooler.dense.bias', 'bert.pooler.dense.weight', 'cls.seq_relationship.bias', 'cls.seq_relationship.weight']\n",
      "- This IS expected if you are initializing BertForMaskedLM from the checkpoint of a model trained on another task or with another architecture (e.g. initializing a BertForSequenceClassification model from a BertForPreTraining model).\n",
      "- This IS NOT expected if you are initializing BertForMaskedLM from the checkpoint of a model that you expect to be exactly identical (initializing a BertForSequenceClassification model from a BertForSequenceClassification model).\n",
      "Calculating embeddings: 100%|██████████| 519/519 [19:03<00:00,  2.20s/it]\n",
      "c:\\Users\\nikla\\AppData\\Local\\Programs\\Python\\Python312\\Lib\\site-packages\\sklearn\\svm\\_base.py:1235: ConvergenceWarning: Liblinear failed to converge, increase the number of iterations.\n",
      "  warnings.warn(\n",
      "c:\\Users\\nikla\\AppData\\Local\\Programs\\Python\\Python312\\Lib\\site-packages\\sklearn\\svm\\_base.py:1235: ConvergenceWarning: Liblinear failed to converge, increase the number of iterations.\n",
      "  warnings.warn(\n",
      "c:\\Users\\nikla\\AppData\\Local\\Programs\\Python\\Python312\\Lib\\site-packages\\sklearn\\svm\\_base.py:1235: ConvergenceWarning: Liblinear failed to converge, increase the number of iterations.\n",
      "  warnings.warn(\n",
      "c:\\Users\\nikla\\AppData\\Local\\Programs\\Python\\Python312\\Lib\\site-packages\\sklearn\\svm\\_base.py:1235: ConvergenceWarning: Liblinear failed to converge, increase the number of iterations.\n",
      "  warnings.warn(\n",
      "c:\\Users\\nikla\\AppData\\Local\\Programs\\Python\\Python312\\Lib\\site-packages\\sklearn\\svm\\_base.py:1235: ConvergenceWarning: Liblinear failed to converge, increase the number of iterations.\n",
      "  warnings.warn(\n",
      "c:\\Users\\nikla\\AppData\\Local\\Programs\\Python\\Python312\\Lib\\site-packages\\sklearn\\svm\\_base.py:1235: ConvergenceWarning: Liblinear failed to converge, increase the number of iterations.\n",
      "  warnings.warn(\n",
      "c:\\Users\\nikla\\AppData\\Local\\Programs\\Python\\Python312\\Lib\\site-packages\\sklearn\\multiclass.py:87: UserWarning: Label not 6 is present in all training examples.\n",
      "  warnings.warn(\n",
      "c:\\Users\\nikla\\AppData\\Local\\Programs\\Python\\Python312\\Lib\\site-packages\\sklearn\\svm\\_base.py:1235: ConvergenceWarning: Liblinear failed to converge, increase the number of iterations.\n",
      "  warnings.warn(\n",
      "c:\\Users\\nikla\\AppData\\Local\\Programs\\Python\\Python312\\Lib\\site-packages\\sklearn\\svm\\_base.py:1235: ConvergenceWarning: Liblinear failed to converge, increase the number of iterations.\n",
      "  warnings.warn(\n",
      "c:\\Users\\nikla\\AppData\\Local\\Programs\\Python\\Python312\\Lib\\site-packages\\sklearn\\svm\\_base.py:1235: ConvergenceWarning: Liblinear failed to converge, increase the number of iterations.\n",
      "  warnings.warn(\n",
      "c:\\Users\\nikla\\AppData\\Local\\Programs\\Python\\Python312\\Lib\\site-packages\\sklearn\\svm\\_base.py:1235: ConvergenceWarning: Liblinear failed to converge, increase the number of iterations.\n",
      "  warnings.warn(\n",
      "c:\\Users\\nikla\\AppData\\Local\\Programs\\Python\\Python312\\Lib\\site-packages\\sklearn\\svm\\_base.py:1235: ConvergenceWarning: Liblinear failed to converge, increase the number of iterations.\n",
      "  warnings.warn(\n",
      "c:\\Users\\nikla\\AppData\\Local\\Programs\\Python\\Python312\\Lib\\site-packages\\sklearn\\svm\\_base.py:1235: ConvergenceWarning: Liblinear failed to converge, increase the number of iterations.\n",
      "  warnings.warn(\n",
      "c:\\Users\\nikla\\AppData\\Local\\Programs\\Python\\Python312\\Lib\\site-packages\\sklearn\\svm\\_base.py:1235: ConvergenceWarning: Liblinear failed to converge, increase the number of iterations.\n",
      "  warnings.warn(\n",
      "c:\\Users\\nikla\\AppData\\Local\\Programs\\Python\\Python312\\Lib\\site-packages\\sklearn\\svm\\_base.py:1235: ConvergenceWarning: Liblinear failed to converge, increase the number of iterations.\n",
      "  warnings.warn(\n",
      "c:\\Users\\nikla\\AppData\\Local\\Programs\\Python\\Python312\\Lib\\site-packages\\sklearn\\svm\\_base.py:1235: ConvergenceWarning: Liblinear failed to converge, increase the number of iterations.\n",
      "  warnings.warn(\n",
      "c:\\Users\\nikla\\AppData\\Local\\Programs\\Python\\Python312\\Lib\\site-packages\\sklearn\\svm\\_base.py:1235: ConvergenceWarning: Liblinear failed to converge, increase the number of iterations.\n",
      "  warnings.warn(\n",
      "c:\\Users\\nikla\\AppData\\Local\\Programs\\Python\\Python312\\Lib\\site-packages\\sklearn\\svm\\_base.py:1235: ConvergenceWarning: Liblinear failed to converge, increase the number of iterations.\n",
      "  warnings.warn(\n",
      "c:\\Users\\nikla\\AppData\\Local\\Programs\\Python\\Python312\\Lib\\site-packages\\sklearn\\svm\\_base.py:1235: ConvergenceWarning: Liblinear failed to converge, increase the number of iterations.\n",
      "  warnings.warn(\n",
      "c:\\Users\\nikla\\AppData\\Local\\Programs\\Python\\Python312\\Lib\\site-packages\\sklearn\\svm\\_base.py:1235: ConvergenceWarning: Liblinear failed to converge, increase the number of iterations.\n",
      "  warnings.warn(\n",
      "c:\\Users\\nikla\\AppData\\Local\\Programs\\Python\\Python312\\Lib\\site-packages\\sklearn\\svm\\_base.py:1235: ConvergenceWarning: Liblinear failed to converge, increase the number of iterations.\n",
      "  warnings.warn(\n",
      "c:\\Users\\nikla\\AppData\\Local\\Programs\\Python\\Python312\\Lib\\site-packages\\sklearn\\svm\\_base.py:1235: ConvergenceWarning: Liblinear failed to converge, increase the number of iterations.\n",
      "  warnings.warn(\n",
      "c:\\Users\\nikla\\AppData\\Local\\Programs\\Python\\Python312\\Lib\\site-packages\\sklearn\\svm\\_base.py:1235: ConvergenceWarning: Liblinear failed to converge, increase the number of iterations.\n",
      "  warnings.warn(\n",
      "c:\\Users\\nikla\\AppData\\Local\\Programs\\Python\\Python312\\Lib\\site-packages\\sklearn\\svm\\_base.py:1235: ConvergenceWarning: Liblinear failed to converge, increase the number of iterations.\n",
      "  warnings.warn(\n",
      "c:\\Users\\nikla\\AppData\\Local\\Programs\\Python\\Python312\\Lib\\site-packages\\sklearn\\svm\\_base.py:1235: ConvergenceWarning: Liblinear failed to converge, increase the number of iterations.\n",
      "  warnings.warn(\n",
      "c:\\Users\\nikla\\AppData\\Local\\Programs\\Python\\Python312\\Lib\\site-packages\\sklearn\\svm\\_base.py:1235: ConvergenceWarning: Liblinear failed to converge, increase the number of iterations.\n",
      "  warnings.warn(\n",
      "c:\\Users\\nikla\\AppData\\Local\\Programs\\Python\\Python312\\Lib\\site-packages\\sklearn\\svm\\_base.py:1235: ConvergenceWarning: Liblinear failed to converge, increase the number of iterations.\n",
      "  warnings.warn(\n",
      "c:\\Users\\nikla\\AppData\\Local\\Programs\\Python\\Python312\\Lib\\site-packages\\sklearn\\svm\\_base.py:1235: ConvergenceWarning: Liblinear failed to converge, increase the number of iterations.\n",
      "  warnings.warn(\n",
      "c:\\Users\\nikla\\AppData\\Local\\Programs\\Python\\Python312\\Lib\\site-packages\\sklearn\\svm\\_base.py:1235: ConvergenceWarning: Liblinear failed to converge, increase the number of iterations.\n",
      "  warnings.warn(\n",
      "c:\\Users\\nikla\\AppData\\Local\\Programs\\Python\\Python312\\Lib\\site-packages\\sklearn\\svm\\_base.py:1235: ConvergenceWarning: Liblinear failed to converge, increase the number of iterations.\n",
      "  warnings.warn(\n",
      "c:\\Users\\nikla\\AppData\\Local\\Programs\\Python\\Python312\\Lib\\site-packages\\sklearn\\svm\\_base.py:1235: ConvergenceWarning: Liblinear failed to converge, increase the number of iterations.\n",
      "  warnings.warn(\n",
      "c:\\Users\\nikla\\AppData\\Local\\Programs\\Python\\Python312\\Lib\\site-packages\\sklearn\\svm\\_base.py:1235: ConvergenceWarning: Liblinear failed to converge, increase the number of iterations.\n",
      "  warnings.warn(\n",
      "c:\\Users\\nikla\\AppData\\Local\\Programs\\Python\\Python312\\Lib\\site-packages\\sklearn\\svm\\_base.py:1235: ConvergenceWarning: Liblinear failed to converge, increase the number of iterations.\n",
      "  warnings.warn(\n",
      "c:\\Users\\nikla\\AppData\\Local\\Programs\\Python\\Python312\\Lib\\site-packages\\sklearn\\svm\\_base.py:1235: ConvergenceWarning: Liblinear failed to converge, increase the number of iterations.\n",
      "  warnings.warn(\n",
      "c:\\Users\\nikla\\AppData\\Local\\Programs\\Python\\Python312\\Lib\\site-packages\\sklearn\\svm\\_base.py:1235: ConvergenceWarning: Liblinear failed to converge, increase the number of iterations.\n",
      "  warnings.warn(\n",
      "c:\\Users\\nikla\\AppData\\Local\\Programs\\Python\\Python312\\Lib\\site-packages\\sklearn\\svm\\_base.py:1235: ConvergenceWarning: Liblinear failed to converge, increase the number of iterations.\n",
      "  warnings.warn(\n",
      "c:\\Users\\nikla\\AppData\\Local\\Programs\\Python\\Python312\\Lib\\site-packages\\sklearn\\svm\\_base.py:1235: ConvergenceWarning: Liblinear failed to converge, increase the number of iterations.\n",
      "  warnings.warn(\n",
      "c:\\Users\\nikla\\AppData\\Local\\Programs\\Python\\Python312\\Lib\\site-packages\\sklearn\\svm\\_base.py:1235: ConvergenceWarning: Liblinear failed to converge, increase the number of iterations.\n",
      "  warnings.warn(\n",
      "c:\\Users\\nikla\\AppData\\Local\\Programs\\Python\\Python312\\Lib\\site-packages\\sklearn\\svm\\_base.py:1235: ConvergenceWarning: Liblinear failed to converge, increase the number of iterations.\n",
      "  warnings.warn(\n",
      "c:\\Users\\nikla\\AppData\\Local\\Programs\\Python\\Python312\\Lib\\site-packages\\sklearn\\svm\\_base.py:1235: ConvergenceWarning: Liblinear failed to converge, increase the number of iterations.\n",
      "  warnings.warn(\n",
      "c:\\Users\\nikla\\AppData\\Local\\Programs\\Python\\Python312\\Lib\\site-packages\\sklearn\\svm\\_base.py:1235: ConvergenceWarning: Liblinear failed to converge, increase the number of iterations.\n",
      "  warnings.warn(\n",
      "c:\\Users\\nikla\\AppData\\Local\\Programs\\Python\\Python312\\Lib\\site-packages\\sklearn\\svm\\_base.py:1235: ConvergenceWarning: Liblinear failed to converge, increase the number of iterations.\n",
      "  warnings.warn(\n",
      "c:\\Users\\nikla\\AppData\\Local\\Programs\\Python\\Python312\\Lib\\site-packages\\sklearn\\svm\\_base.py:1235: ConvergenceWarning: Liblinear failed to converge, increase the number of iterations.\n",
      "  warnings.warn(\n"
     ]
    },
    {
     "name": "stdout",
     "output_type": "stream",
     "text": [
      "2025-01-05 21:00:30,096 - __main__ - INFO - Model saved to c:\\Users\\nikla\\Documents\\Uni\\Master\\Semester1\\3 NLP and Information Extraction\\nlp_Backpropagandists_2024\\code/models/svm_model.joblib\n"
     ]
    },
    {
     "name": "stderr",
     "output_type": "stream",
     "text": [
      "c:\\Users\\nikla\\AppData\\Local\\Programs\\Python\\Python312\\Lib\\site-packages\\sklearn\\svm\\_base.py:1235: ConvergenceWarning: Liblinear failed to converge, increase the number of iterations.\n",
      "  warnings.warn(\n"
     ]
    },
    {
     "name": "stdout",
     "output_type": "stream",
     "text": [
      "2025-01-05 21:00:30,335 - __main__ - INFO - SVM training completed.\n"
     ]
    }
   ],
   "source": [
    "logger.info(\"Starting SVM training with Multilingual Embeddings on Climate Change data...\")\n",
    "training_results_mult_cc, counts_df_mult_cc, conf_matr_mult_cc = train_svm(df_cc, base_path, vectorizer=\"multilingual-embeddings\")\n",
    "logger.info(f\"SVM training completed.\")"
   ]
  },
  {
   "cell_type": "code",
   "execution_count": 77,
   "metadata": {},
   "outputs": [
    {
     "name": "stdout",
     "output_type": "stream",
     "text": [
      "2025-01-05 21:00:30,363 - __main__ - INFO - Starting SVM training with Multilingual Embeddings on the complete data...\n",
      "2025-01-05 21:00:30,551 - __main__ - INFO - Created mapping for 94 unique narratives\n",
      "2025-01-05 21:00:30,632 - __main__ - INFO - Number of unique labels in mapping: 94\n",
      "2025-01-05 21:00:30,645 - __main__ - INFO - Sample text: ['bill', 'gate', 'say', 'solution', 'climate', 'change', 'ok', 'four', 'private', 'jet', 'bill', 'ga\n",
      "2025-01-05 21:00:30,650 - __main__ - INFO - Sample label: [0, 0, 0, 0, 0, 0, 0, 0, 0, 0, 0, 0, 0, 0, 0, 0, 0, 0, 0, 0, 1, 0, 0, 0, 0, 0, 0, 0, 0, 0, 0, 0, 0, 0, 0, 0, 0, 0, 0, 0, 0, 0, 0, 0, 0, 0, 0, 0, 0, 0, 0, 0, 0, 0, 0, 0, 0, 0, 0, 0, 0, 0, 0, 0, 0, 0, 0, 0, 0, 0, 0, 0, 0, 0, 0, 0, 0, 0, 0, 0, 0, 0, 0, 0, 0, 0, 0, 0, 0, 0, 0, 0, 0, 0]\n"
     ]
    },
    {
     "name": "stderr",
     "output_type": "stream",
     "text": [
      "c:\\Users\\nikla\\AppData\\Local\\Programs\\Python\\Python312\\Lib\\site-packages\\transformers\\generation\\configuration_utils.py:774: UserWarning: `return_dict_in_generate` is NOT set to `True`, but `output_hidden_states` is. When `return_dict_in_generate` is not `True`, `output_hidden_states` is ignored.\n",
      "  warnings.warn(\n",
      "Some weights of the model checkpoint at google-bert/bert-base-multilingual-uncased were not used when initializing BertForMaskedLM: ['bert.pooler.dense.bias', 'bert.pooler.dense.weight', 'cls.seq_relationship.bias', 'cls.seq_relationship.weight']\n",
      "- This IS expected if you are initializing BertForMaskedLM from the checkpoint of a model trained on another task or with another architecture (e.g. initializing a BertForSequenceClassification model from a BertForPreTraining model).\n",
      "- This IS NOT expected if you are initializing BertForMaskedLM from the checkpoint of a model that you expect to be exactly identical (initializing a BertForSequenceClassification model from a BertForSequenceClassification model).\n",
      "Calculating embeddings: 100%|██████████| 1694/1694 [59:59<00:00,  2.12s/it]\n"
     ]
    },
    {
     "name": "stdout",
     "output_type": "stream",
     "text": [
      "2025-01-05 22:00:51,118 - __main__ - INFO - Model saved to c:\\Users\\nikla\\Documents\\Uni\\Master\\Semester1\\3 NLP and Information Extraction\\nlp_Backpropagandists_2024\\code/models/svm_model.joblib\n",
      "2025-01-05 22:00:51,605 - __main__ - INFO - SVM training completed.\n"
     ]
    }
   ],
   "source": [
    "# on the complete data\n",
    "logger.info(\"Starting SVM training with Multilingual Embeddings on the complete data...\")\n",
    "training_results_mult_compl, counts_df_mult_compl, conf_matr_mult_compl = train_svm(df, base_path, vectorizer=\"multilingual-embeddings\")\n",
    "logger.info(f\"SVM training completed.\")"
   ]
  },
  {
   "cell_type": "markdown",
   "metadata": {},
   "source": [
    "## Scores Table"
   ]
  },
  {
   "cell_type": "code",
   "execution_count": 79,
   "metadata": {},
   "outputs": [
    {
     "name": "stderr",
     "output_type": "stream",
     "text": [
      "C:\\Users\\nikla\\AppData\\Local\\Temp\\ipykernel_13456\\1986190584.py:35: FutureWarning: DataFrame.applymap has been deprecated. Use DataFrame.map instead.\n",
      "  metrics_pivot = metrics_pivot.applymap(lambda x: '{:.3f}'.format(x))\n"
     ]
    },
    {
     "data": {
      "text/html": [
       "<style type=\"text/css\">\n",
       "#T_3c4e6 thead th {\n",
       "  background-color: #f7f7f9;\n",
       "  color: black;\n",
       "}\n",
       "#T_3c4e6_row0_col0, #T_3c4e6_row0_col1, #T_3c4e6_row0_col2, #T_3c4e6_row0_col4, #T_3c4e6_row0_col5, #T_3c4e6_row0_col6, #T_3c4e6_row0_col8, #T_3c4e6_row0_col9, #T_3c4e6_row0_col10, #T_3c4e6_row1_col0, #T_3c4e6_row1_col1, #T_3c4e6_row1_col2, #T_3c4e6_row1_col4, #T_3c4e6_row1_col5, #T_3c4e6_row1_col6, #T_3c4e6_row1_col8, #T_3c4e6_row1_col9, #T_3c4e6_row1_col10, #T_3c4e6_row2_col0, #T_3c4e6_row2_col1, #T_3c4e6_row2_col2, #T_3c4e6_row2_col4, #T_3c4e6_row2_col5, #T_3c4e6_row2_col6, #T_3c4e6_row2_col8, #T_3c4e6_row2_col9, #T_3c4e6_row2_col10 {\n",
       "  text-align: center;\n",
       "}\n",
       "#T_3c4e6_row0_col3, #T_3c4e6_row0_col7, #T_3c4e6_row0_col11, #T_3c4e6_row1_col3, #T_3c4e6_row1_col7, #T_3c4e6_row1_col11, #T_3c4e6_row2_col3, #T_3c4e6_row2_col7, #T_3c4e6_row2_col11 {\n",
       "  border-left: 4px solid darkblue;\n",
       "  border-right: 4px solid darkblue;\n",
       "  text-align: center;\n",
       "}\n",
       "</style>\n",
       "<table id=\"T_3c4e6\">\n",
       "  <caption>Performance Metrics for Each Method and Dataset</caption>\n",
       "  <thead>\n",
       "    <tr>\n",
       "      <th class=\"blank\" >&nbsp;</th>\n",
       "      <th class=\"blank level0\" >&nbsp;</th>\n",
       "      <th id=\"T_3c4e6_level0_col0\" class=\"col_heading level0 col0\" colspan=\"4\">F1-Score</th>\n",
       "      <th id=\"T_3c4e6_level0_col4\" class=\"col_heading level0 col4\" colspan=\"4\">Precision</th>\n",
       "      <th id=\"T_3c4e6_level0_col8\" class=\"col_heading level0 col8\" colspan=\"4\">Recall</th>\n",
       "    </tr>\n",
       "    <tr>\n",
       "      <th class=\"blank\" >&nbsp;</th>\n",
       "      <th class=\"index_name level1\" >Metric</th>\n",
       "      <th id=\"T_3c4e6_level1_col0\" class=\"col_heading level1 col0\" >macro avg</th>\n",
       "      <th id=\"T_3c4e6_level1_col1\" class=\"col_heading level1 col1\" >micro avg</th>\n",
       "      <th id=\"T_3c4e6_level1_col2\" class=\"col_heading level1 col2\" >samples avg</th>\n",
       "      <th id=\"T_3c4e6_level1_col3\" class=\"col_heading level1 col3\" >weighted avg</th>\n",
       "      <th id=\"T_3c4e6_level1_col4\" class=\"col_heading level1 col4\" >macro avg</th>\n",
       "      <th id=\"T_3c4e6_level1_col5\" class=\"col_heading level1 col5\" >micro avg</th>\n",
       "      <th id=\"T_3c4e6_level1_col6\" class=\"col_heading level1 col6\" >samples avg</th>\n",
       "      <th id=\"T_3c4e6_level1_col7\" class=\"col_heading level1 col7\" >weighted avg</th>\n",
       "      <th id=\"T_3c4e6_level1_col8\" class=\"col_heading level1 col8\" >macro avg</th>\n",
       "      <th id=\"T_3c4e6_level1_col9\" class=\"col_heading level1 col9\" >micro avg</th>\n",
       "      <th id=\"T_3c4e6_level1_col10\" class=\"col_heading level1 col10\" >samples avg</th>\n",
       "      <th id=\"T_3c4e6_level1_col11\" class=\"col_heading level1 col11\" >weighted avg</th>\n",
       "    </tr>\n",
       "    <tr>\n",
       "      <th class=\"index_name level0\" >Method</th>\n",
       "      <th class=\"index_name level1\" >Dataset</th>\n",
       "      <th class=\"blank col0\" >&nbsp;</th>\n",
       "      <th class=\"blank col1\" >&nbsp;</th>\n",
       "      <th class=\"blank col2\" >&nbsp;</th>\n",
       "      <th class=\"blank col3\" >&nbsp;</th>\n",
       "      <th class=\"blank col4\" >&nbsp;</th>\n",
       "      <th class=\"blank col5\" >&nbsp;</th>\n",
       "      <th class=\"blank col6\" >&nbsp;</th>\n",
       "      <th class=\"blank col7\" >&nbsp;</th>\n",
       "      <th class=\"blank col8\" >&nbsp;</th>\n",
       "      <th class=\"blank col9\" >&nbsp;</th>\n",
       "      <th class=\"blank col10\" >&nbsp;</th>\n",
       "      <th class=\"blank col11\" >&nbsp;</th>\n",
       "    </tr>\n",
       "  </thead>\n",
       "  <tbody>\n",
       "    <tr>\n",
       "      <th id=\"T_3c4e6_level0_row0\" class=\"row_heading level0 row0\" >bow</th>\n",
       "      <th id=\"T_3c4e6_level1_row0\" class=\"row_heading level1 row0\" >compl</th>\n",
       "      <td id=\"T_3c4e6_row0_col0\" class=\"data row0 col0\" >0.092</td>\n",
       "      <td id=\"T_3c4e6_row0_col1\" class=\"data row0 col1\" >0.150</td>\n",
       "      <td id=\"T_3c4e6_row0_col2\" class=\"data row0 col2\" >0.135</td>\n",
       "      <td id=\"T_3c4e6_row0_col3\" class=\"data row0 col3\" >0.142</td>\n",
       "      <td id=\"T_3c4e6_row0_col4\" class=\"data row0 col4\" >0.132</td>\n",
       "      <td id=\"T_3c4e6_row0_col5\" class=\"data row0 col5\" >0.196</td>\n",
       "      <td id=\"T_3c4e6_row0_col6\" class=\"data row0 col6\" >0.146</td>\n",
       "      <td id=\"T_3c4e6_row0_col7\" class=\"data row0 col7\" >0.234</td>\n",
       "      <td id=\"T_3c4e6_row0_col8\" class=\"data row0 col8\" >0.091</td>\n",
       "      <td id=\"T_3c4e6_row0_col9\" class=\"data row0 col9\" >0.121</td>\n",
       "      <td id=\"T_3c4e6_row0_col10\" class=\"data row0 col10\" >0.162</td>\n",
       "      <td id=\"T_3c4e6_row0_col11\" class=\"data row0 col11\" >0.121</td>\n",
       "    </tr>\n",
       "    <tr>\n",
       "      <th id=\"T_3c4e6_level0_row1\" class=\"row_heading level0 row1\" >mult</th>\n",
       "      <th id=\"T_3c4e6_level1_row1\" class=\"row_heading level1 row1\" >compl</th>\n",
       "      <td id=\"T_3c4e6_row1_col0\" class=\"data row1 col0\" >0.085</td>\n",
       "      <td id=\"T_3c4e6_row1_col1\" class=\"data row1 col1\" >0.248</td>\n",
       "      <td id=\"T_3c4e6_row1_col2\" class=\"data row1 col2\" >0.235</td>\n",
       "      <td id=\"T_3c4e6_row1_col3\" class=\"data row1 col3\" >0.206</td>\n",
       "      <td id=\"T_3c4e6_row1_col4\" class=\"data row1 col4\" >0.177</td>\n",
       "      <td id=\"T_3c4e6_row1_col5\" class=\"data row1 col5\" >0.488</td>\n",
       "      <td id=\"T_3c4e6_row1_col6\" class=\"data row1 col6\" >0.283</td>\n",
       "      <td id=\"T_3c4e6_row1_col7\" class=\"data row1 col7\" >0.351</td>\n",
       "      <td id=\"T_3c4e6_row1_col8\" class=\"data row1 col8\" >0.064</td>\n",
       "      <td id=\"T_3c4e6_row1_col9\" class=\"data row1 col9\" >0.166</td>\n",
       "      <td id=\"T_3c4e6_row1_col10\" class=\"data row1 col10\" >0.226</td>\n",
       "      <td id=\"T_3c4e6_row1_col11\" class=\"data row1 col11\" >0.166</td>\n",
       "    </tr>\n",
       "    <tr>\n",
       "      <th id=\"T_3c4e6_level0_row2\" class=\"row_heading level0 row2\" >tfidf</th>\n",
       "      <th id=\"T_3c4e6_level1_row2\" class=\"row_heading level1 row2\" >compl</th>\n",
       "      <td id=\"T_3c4e6_row2_col0\" class=\"data row2 col0\" >0.087</td>\n",
       "      <td id=\"T_3c4e6_row2_col1\" class=\"data row2 col1\" >0.273</td>\n",
       "      <td id=\"T_3c4e6_row2_col2\" class=\"data row2 col2\" >0.245</td>\n",
       "      <td id=\"T_3c4e6_row2_col3\" class=\"data row2 col3\" >0.225</td>\n",
       "      <td id=\"T_3c4e6_row2_col4\" class=\"data row2 col4\" >0.192</td>\n",
       "      <td id=\"T_3c4e6_row2_col5\" class=\"data row2 col5\" >0.667</td>\n",
       "      <td id=\"T_3c4e6_row2_col6\" class=\"data row2 col6\" >0.292</td>\n",
       "      <td id=\"T_3c4e6_row2_col7\" class=\"data row2 col7\" >0.438</td>\n",
       "      <td id=\"T_3c4e6_row2_col8\" class=\"data row2 col8\" >0.064</td>\n",
       "      <td id=\"T_3c4e6_row2_col9\" class=\"data row2 col9\" >0.171</td>\n",
       "      <td id=\"T_3c4e6_row2_col10\" class=\"data row2 col10\" >0.233</td>\n",
       "      <td id=\"T_3c4e6_row2_col11\" class=\"data row2 col11\" >0.171</td>\n",
       "    </tr>\n",
       "  </tbody>\n",
       "</table>\n"
      ],
      "text/plain": [
       "<pandas.io.formats.style.Styler at 0x22ef75eb620>"
      ]
     },
     "execution_count": 79,
     "metadata": {},
     "output_type": "execute_result"
    }
   ],
   "source": [
    "# Extract metrics from the training results\n",
    "def extract_metrics(training_results):\n",
    "    metrics = {\n",
    "        'micro avg': training_results['micro avg'],\n",
    "        'macro avg': training_results['macro avg'],\n",
    "        'weighted avg': training_results['weighted avg'],\n",
    "        'samples avg': training_results['samples avg']\n",
    "    }\n",
    "    return metrics\n",
    "\n",
    "# Create a DataFrame to hold all metrics\n",
    "metrics_df = pd.DataFrame()\n",
    "\n",
    "# Add metrics for each dataset and method\n",
    "datasets = ['compl'] # ,'ua', 'cc'\n",
    "methods = ['tfidf', 'bow', 'mult']\n",
    "for method in methods:\n",
    "    for dataset in datasets:\n",
    "        result_var = f'training_results_{method}_{dataset}'\n",
    "        metrics = extract_metrics(globals()[result_var])\n",
    "        for metric_type, values in metrics.items():\n",
    "            metrics_df = pd.concat([metrics_df, pd.DataFrame([{\n",
    "                'Method': method,\n",
    "                'Dataset': dataset,\n",
    "                'Metric': metric_type,\n",
    "                'Precision': round(values['precision'], 3),\n",
    "                'Recall': round(values['recall'], 3),\n",
    "                'F1-Score': round(values['f1-score'], 3)\n",
    "            }])], ignore_index=True)\n",
    "\n",
    "# Pivot the DataFrame for better visualization\n",
    "metrics_pivot = metrics_df.pivot_table(index=['Method', 'Dataset'], columns='Metric', values=['Precision', 'Recall', 'F1-Score'])\n",
    "\n",
    "# Format the DataFrame to show only three digits\n",
    "metrics_pivot = metrics_pivot.applymap(lambda x: '{:.3f}'.format(x))\n",
    "\n",
    "# Highlight the weighted avg columns\n",
    "highlight = lambda x: ['border-left: 4px solid darkblue; border-right: 4px solid darkblue' if 'weighted avg' in col else '' for col in x.index]\n",
    "\n",
    "# Display the table\n",
    "metrics_pivot.style.apply(highlight, axis=1).set_table_styles(\n",
    "    [{'selector': 'thead th', 'props': [('background-color', '#f7f7f9'), ('color', 'black')]}]\n",
    ").set_properties(**{'text-align': 'center'}).set_caption(\"Performance Metrics for Each Method and Dataset\")\n"
   ]
  },
  {
   "cell_type": "markdown",
   "metadata": {},
   "source": [
    "## Occurence Table and Confusion Matrices"
   ]
  },
  {
   "cell_type": "code",
   "execution_count": 93,
   "metadata": {},
   "outputs": [],
   "source": [
    "def show_class_occurrences(counts_df):\n",
    "    # Display the DataFrame as a table\n",
    "        from IPython.display import display\n",
    "        display(counts_df.style.set_table_styles(\n",
    "            [{'selector': 'thead th', 'props': [('background-color', '#f7f7f9'), ('color', 'black')]}]\n",
    "        ).set_properties(**{'text-align': 'center'}).set_caption(\"Table of Class Occurrences in Train, Test, and Predictions\"))\n",
    "\n",
    "def show_confusion_matrix(confusion_mtx):\n",
    "    \"\"\"\n",
    "    Show confusion matrix for SVM model.\n",
    "    \n",
    "    Args:\n",
    "        confusion_mtx: Multilabel confusion matrix.\n",
    "    \"\"\"\n",
    "    n_classes = len(confusion_mtx)\n",
    "    ncols = 6 \n",
    "    nrows = math.ceil(n_classes / ncols)\n",
    "\n",
    "    fig, axes = plt.subplots(nrows=nrows, ncols=ncols, figsize=(15, nrows * 2.5))\n",
    "    axes = axes.flatten()\n",
    "\n",
    "    # Plot each confusion matrix\n",
    "    for idx, mtx in enumerate(confusion_mtx):\n",
    "        sns.heatmap(mtx, annot=True, fmt='d', ax=axes[idx], cmap='Blues')\n",
    "        axes[idx].set_title(f\"Narrative {idx}\")\n",
    "        axes[idx].set_xlabel('Predicted')\n",
    "        axes[idx].set_ylabel('True')\n",
    "\n",
    "    # Hide empty subplots\n",
    "    for idx in range(n_classes, len(axes)):\n",
    "        fig.delaxes(axes[idx])\n",
    "\n",
    "    plt.tight_layout()\n",
    "    plt.show()\n",
    "\n",
    "def show_accumulated_confusion_matrix(confusion_mtx):\n",
    "    \"\"\"\n",
    "    Show a matrix of accumulated confusion matrices.\n",
    "    \n",
    "    Args:\n",
    "        confusion_mtx: Multilabel confusion matrix.\n",
    "    \"\"\"\n",
    "\n",
    "    # Sum all confusion matrices\n",
    "    accumulated_confusion = np.sum(confusion_mtx, axis=0)\n",
    "\n",
    "    # Plot the confusion matrix\n",
    "    plt.figure(figsize=(5,4))\n",
    "    sns.heatmap(accumulated_confusion, annot=True, fmt='d', cmap='Blues')\n",
    "    plt.title(\"Accumulated Confusion Matrix\")\n",
    "    plt.xlabel('Predicted')\n",
    "    plt.ylabel('True')\n",
    "    plt.show()\n",
    "     "
   ]
  },
  {
   "cell_type": "code",
   "execution_count": 94,
   "metadata": {},
   "outputs": [
    {
     "name": "stdout",
     "output_type": "stream",
     "text": [
      "Results using TF-IDF Vectorizer:\n",
      "Ukraine War Data:\n",
      "Results using Bag-Of-Words Vectorizer:\n",
      "Results using Multilingual Embeddings:\n"
     ]
    },
    {
     "data": {
      "image/png": "[encoded data removed]",
      "text/plain": [
       "<Figure size 500x400 with 2 Axes>"
      ]
     },
     "metadata": {},
     "output_type": "display_data"
    },
    {
     "data": {
      "image/png": "[encoded data removed]",
      "text/plain": [
       "<Figure size 500x400 with 2 Axes>"
      ]
     },
     "metadata": {},
     "output_type": "display_data"
    },
    {
     "data": {
      "image/png": "[encoded data removed]",
      "text/plain": [
       "<Figure size 500x400 with 2 Axes>"
      ]
     },
     "metadata": {},
     "output_type": "display_data"
    }
   ],
   "source": [
    "print(\"Results using TF-IDF Vectorizer:\")\n",
    "\n",
    "# print(\"Complete Data:\")\n",
    "#show_class_occurrences(counts_df_tfidf_compl)\n",
    "# show_confusion_matrix(conf_matr_tfidf_compl)\n",
    "\n",
    "\n",
    "print(\"Ukraine War Data:\")\n",
    "#show_class_occurrences(counts_df_tfidf_ua)\n",
    "#show_confusion_matrix(conf_matr_tfidf_ua)\n",
    "\n",
    "# print(\"Climate Change Data:\")\n",
    "# show_class_occurrences(counts_df_cc)\n",
    "# show_confusion_matrix(conf_matr_cc)\n",
    "\n",
    "\n",
    "print(\"Results using Bag-Of-Words Vectorizer:\")\n",
    "\n",
    "# print(\"Complete Data with Bag-Of-Words:\")\n",
    "# show_class_occurrences(counts_df_bow_compl)\n",
    "# show_confusion_matrix(conf_matr_bow_compl)\n",
    "\n",
    "#print(\"Ukraine War Data:\")\n",
    "#show_class_occurrences(counts_df_bow_ua)\n",
    "#show_confusion_matrix(conf_matr_bow_ua)\n",
    "\n",
    "# print(\"Climate Change Data:\")\n",
    "# show_class_occurrences(counts_df_bow_cc)\n",
    "# show_confusion_matrix(conf_matr_bow_cc)\n",
    "\n",
    "print(\"Results using Multilingual Embeddings:\")\n",
    "\n",
    "#print(\"Ukraine War Data:\")\n",
    "#show_class_occurrences(counts_df_mult_ua)\n",
    "#show_confusion_matrix(conf_matr_mult_ua)\n",
    "show_accumulated_confusion_matrix(conf_matr_tfidf_compl)\n",
    "show_accumulated_confusion_matrix(conf_matr_bow_compl)\n",
    "show_accumulated_confusion_matrix(conf_matr_mult_compl)\n",
    "\n"
   ]
  },
  {
   "cell_type": "markdown",
   "metadata": {},
   "source": [
    "\n",
    "\n",
    "\n",
    "## Result analysis\n",
    "\n",
    "### General Considerations\n",
    "- To evaluate performance, we look at the **recall, precision and f1-score**\n",
    "\n",
    "- We argue that a **high recall is more relevant** for this task. Given the example of assigning articles on X (formerly twitter)  to certain narratives to flag to it like \"A problematic narrative x might be contained in this article\", we are more interested in actually finding all relevant narratives.\n",
    "- Therefore, if we optimise our results, we will do it with respect to recall.\n",
    "\n",
    "- From the occurences tables, we identify class imbalance as a big problem, and many classes only have very few instances. \n",
    "- Especially {narrative:\"other, subnarrative:\"Other\"} is highly overrepresented in the data - it has 97 occurences in the data\n",
    "- Other narratives are strongly underrepresented, only having a single instance.\n",
    "\n",
    "- Further, we notice that the results vary significantly with the seed. This is a further indicator, that the general amount of data might not be sufficient.\n",
    "\n",
    "### Metric Calculation\n",
    "\n",
    "**Macro Average**\n",
    "\n",
    "- Macro-Avg scores do not consider class frequency, and therefore treat each class independently.\n",
    "- We note, that the metrics computed with macro average are generally very poor.\n",
    "- This is due to multiple reasons:\n",
    "    - task complexity with a large output space in terms of class number and multiple labels that can apply to an article\n",
    "    - the class distribution is highly unbalanced\n",
    "    - with only using the english data, we have a quite limited dataset size, especially when considering the task complexity\n",
    "    - the method of one-vs-rest classification with SVMs likely lacks the suitable capacity for this task\n",
    "\n",
    "**Weighted Average**\n",
    "\n",
    "- Weigthed-Avg scores take the support into account. Classes with more samples contribute more to the overall score.\n",
    "- The metrics computed with weighted average generally look very much better, since underrepresented classes, for which the model has almost no chance of learning them, are not weighted equally\n",
    "\n",
    "### Confusion Matrix and Occurances Table\n",
    "- For each label, we show the confusion matrix and give an overview of its occurences in the data and the predictions.\n",
    "- This reveals, that the model almost purely predicts class 'Other-Other', while other narratives are ignored completly.\n",
    "- This is a huge issue.\n",
    "\n",
    "### Splitting data into ukraine war and climate change\n",
    "- Treating ukraine war and climate change data separately intensifies the problem of the imbalanced data set and predictions\n",
    "- This holds especially for the climate change set, indicating that the imbalance is even worse in this subset.\n",
    "\n",
    "### Representation Method\n",
    "- Compared to using tf-idf as data representation method, with bag-of-words, the model generally predicts classes more often.\n",
    "- With this, we also get some correct predicitions apart from the 'Other-Other' class.\n",
    "- However, still the trend to predicting the 'Other-Other' class persists\n",
    "\n",
    "### Further Task Specific Problems\n",
    "When training the SVM, a user warning occurs: \"Label not :NUMBER: is present in all training examples\". This is sklearns weird way of saying that there are label indices that do not occur in any of the training data instances. This happens the following way:\n",
    "- The unique labels are generated using the whole dataset\n",
    "- After making the train-test-split, it is likely that classes that have a low representation did not make it into the training set\n",
    "\n",
    "The result of this is that the model obviously can't learn how to predict this class, resulting in no correct predictions for it. This is a problem specific problem, since in multi-class classification (xx classes), it frequently occurs that some classes are represented a lot and others very rarely.\n",
    "\n",
    "### Solution Approaches\n",
    "Underrepresented classes with only very few instances make the problem very hard to handle, especially if some classes are not represented at all in the test set. Possible strategies would include\n",
    "\n",
    "- Stratification at the train-test-split level could resolve this problem by ensuring the distribution of the classes is the same in train and test\n",
    "    - With single occurances of classes, this is not possible since at least two occurances per class are necessary\n",
    "- Using SMOTE to create synthetic training instances for underrepresented classes\n",
    "    - For this as well, more than one occurance per class is necessary since the synthetic examples are generated using the \"nearest neighbors\" of that class\n",
    "- Another way of dealing with the problem is to copy instances of classes that only occur once and then using stratification. Since that would lead to leakage from the training into the test data, this is worse than not addressing it since that way, the performance would be artificially raised.\n",
    "\n",
    "Another, straight-forward way would be to collect more data in general, using also the data sets from different languages.\n",
    "\n",
    "Addressing the mentioned problems further will be a task for the final project submission.\n"
   ]
  }
 ],
 "metadata": {
  "kernelspec": {
   "display_name": "Python 3",
   "language": "python",
   "name": "python3"
  },
  "language_info": {
   "codemirror_mode": {
    "name": "ipython",
    "version": 3
   },
   "file_extension": ".py",
   "mimetype": "text/x-python",
   "name": "python",
   "nbconvert_exporter": "python",
   "pygments_lexer": "ipython3",
   "version": "3.12.4"
  }
 },
 "nbformat": 4,
 "nbformat_minor": 2
}
