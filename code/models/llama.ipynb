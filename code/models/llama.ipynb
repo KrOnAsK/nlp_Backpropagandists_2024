{
 "cells": [
  {
   "cell_type": "code",
   "execution_count": 1,
   "metadata": {},
   "outputs": [
    {
     "name": "stdout",
     "output_type": "stream",
     "text": [
      "2.5.1+cpu\n"
     ]
    },
    {
     "name": "stderr",
     "output_type": "stream",
     "text": [
      "c:\\Users\\krona\\.conda\\envs\\tf-gpu\\lib\\site-packages\\tqdm\\auto.py:21: TqdmWarning: IProgress not found. Please update jupyter and ipywidgets. See https://ipywidgets.readthedocs.io/en/stable/user_install.html\n",
      "  from .autonotebook import tqdm as notebook_tqdm\n"
     ]
    },
    {
     "name": "stdout",
     "output_type": "stream",
     "text": [
      "CUDA Available: False\n"
     ]
    }
   ],
   "source": [
    "import os\n",
    "import pandas as pd\n",
    "\n",
    "import torch\n",
    "print(torch.__version__)\n",
    "import wandb\n",
    "from transformers import LlamaTokenizer, LlamaForSequenceClassification, TrainingArguments, Trainer\n",
    "from sklearn.model_selection import train_test_split\n",
    "from sklearn.metrics import accuracy_score, precision_recall_fscore_support, confusion_matrix\n",
    "from datetime import datetime\n",
    "import logging\n",
    "import json\n",
    "import numpy as np\n",
    "from tqdm.notebook import tqdm\n",
    "\n",
    "# Configure logging\n",
    "logging.basicConfig(\n",
    "    level=logging.INFO,\n",
    "    format='%(asctime)s - %(levelname)s - %(message)s'\n",
    ")\n",
    "logger = logging.getLogger(__name__)\n",
    "\n",
    "# Check CUDA availability\n",
    "print(f\"CUDA Available: {torch.cuda.is_available()}\")\n",
    "if torch.cuda.is_available():\n",
    "    print(f\"GPU Device: {torch.cuda.get_device_name(0)}\")\n",
    "    print(f\"GPU Memory: {torch.cuda.get_device_properties(0).total_memory / 1e9:.2f} GB\")\n"
   ]
  },
  {
   "cell_type": "code",
   "execution_count": 3,
   "metadata": {},
   "outputs": [
    {
     "name": "stdout",
     "output_type": "stream",
     "text": [
      "\n",
      "Full Dataset Info:\n",
      "<class 'pandas.core.frame.DataFrame'>\n",
      "RangeIndex: 1694 entries, 0 to 1693\n",
      "Data columns (total 8 columns):\n",
      " #   Column                        Non-Null Count  Dtype \n",
      "---  ------                        --------------  ----- \n",
      " 0   filename                      1694 non-null   object\n",
      " 1   language                      1694 non-null   object\n",
      " 2   content                       1694 non-null   object\n",
      " 3   topic                         1694 non-null   object\n",
      " 4   narrative_subnarrative_pairs  1694 non-null   object\n",
      " 5   target_indices                1694 non-null   object\n",
      " 6   tokens                        1694 non-null   object\n",
      " 7   tokens_normalized             1694 non-null   object\n",
      "dtypes: object(8)\n",
      "memory usage: 106.0+ KB\n",
      "None\n",
      "\n",
      "Number of records: 1694\n",
      "\n",
      "UA Dataset Info:\n",
      "<class 'pandas.core.frame.DataFrame'>\n",
      "RangeIndex: 1175 entries, 0 to 1174\n",
      "Data columns (total 8 columns):\n",
      " #   Column                        Non-Null Count  Dtype \n",
      "---  ------                        --------------  ----- \n",
      " 0   filename                      1175 non-null   object\n",
      " 1   language                      1175 non-null   object\n",
      " 2   content                       1175 non-null   object\n",
      " 3   topic                         1175 non-null   object\n",
      " 4   narrative_subnarrative_pairs  1175 non-null   object\n",
      " 5   target_indices                1175 non-null   object\n",
      " 6   tokens                        1175 non-null   object\n",
      " 7   tokens_normalized             1175 non-null   object\n",
      "dtypes: object(8)\n",
      "memory usage: 73.6+ KB\n",
      "None\n",
      "\n",
      "Number of UA records: 1175\n",
      "\n",
      "CC Dataset Info:\n",
      "<class 'pandas.core.frame.DataFrame'>\n",
      "RangeIndex: 519 entries, 0 to 518\n",
      "Data columns (total 8 columns):\n",
      " #   Column                        Non-Null Count  Dtype \n",
      "---  ------                        --------------  ----- \n",
      " 0   filename                      519 non-null    object\n",
      " 1   language                      519 non-null    object\n",
      " 2   content                       519 non-null    object\n",
      " 3   topic                         519 non-null    object\n",
      " 4   narrative_subnarrative_pairs  519 non-null    object\n",
      " 5   target_indices                519 non-null    object\n",
      " 6   tokens                        519 non-null    object\n",
      " 7   tokens_normalized             519 non-null    object\n",
      "dtypes: object(8)\n",
      "memory usage: 32.6+ KB\n",
      "None\n",
      "\n",
      "Number of CC records: 519\n",
      "\n",
      "Sample row from full dataset:\n",
      "filename                                                         EN_CC_100013.txt\n",
      "language                                                                       EN\n",
      "content                         Bill Gates Says He Is ‘The Solution’ To Climat...\n",
      "topic                                                                          CC\n",
      "narrative_subnarrative_pairs    [{'narrative': 'Criticism of climate movement'...\n",
      "target_indices                                                               [14]\n",
      "tokens                          [['Bill', 'Gates', 'Says', 'He', 'Is', '‘', 'T...\n",
      "tokens_normalized               ['bill', 'gate', 'say', 'solution', 'climate',...\n",
      "Name: 0, dtype: object\n"
     ]
    }
   ],
   "source": [
    "base_path = os.path.dirname(os.getcwd())\n",
    "\n",
    "# Load preprocessed data\n",
    "input_file_full = os.path.join(base_path, \"df_normalized.csv\")\n",
    "df_normalized = pd.read_csv(input_file_full)\n",
    "df = pd.read_csv(input_file_full)\n",
    "\n",
    "input_file_ua = os.path.join(base_path, \"df_normalized_ua.csv\")\n",
    "df_normalized_ua = pd.read_csv(input_file_ua)\n",
    "\n",
    "input_file_cc = os.path.join(base_path, \"df_normalized_cc.csv\")\n",
    "df_normalized_cc = pd.read_csv(input_file_cc)\n",
    "\n",
    "# Display dataset information\n",
    "print(\"\\nFull Dataset Info:\")\n",
    "print(df_normalized.info())\n",
    "print(f\"\\nNumber of records: {len(df_normalized)}\")\n",
    "\n",
    "print(\"\\nUA Dataset Info:\")\n",
    "print(df_normalized_ua.info())\n",
    "print(f\"\\nNumber of UA records: {len(df_normalized_ua)}\")\n",
    "\n",
    "print(\"\\nCC Dataset Info:\")\n",
    "print(df_normalized_cc.info())\n",
    "print(f\"\\nNumber of CC records: {len(df_normalized_cc)}\")\n",
    "\n",
    "# Display sample rows\n",
    "print(\"\\nSample row from full dataset:\")\n",
    "print(df_normalized.iloc[0])"
   ]
  },
  {
   "cell_type": "code",
   "execution_count": 4,
   "metadata": {},
   "outputs": [],
   "source": [
    "class CustomDataset(torch.utils.data.Dataset):\n",
    "    \"\"\"Custom Dataset for loading Llama input data\"\"\"\n",
    "    def __init__(self, encodings, labels):\n",
    "        self.encodings = encodings\n",
    "        self.labels = labels\n",
    "        \n",
    "        # Debug info\n",
    "        print(f\"Dataset created with {len(self.labels)} samples\")\n",
    "        print(f\"Label distribution: {pd.Series(self.labels).value_counts()}\")\n",
    "\n",
    "    def __getitem__(self, idx):\n",
    "        item = {key: torch.tensor(val[idx]) for key, val in self.encodings.items()}\n",
    "        item['labels'] = torch.tensor(self.labels[idx])\n",
    "        return item\n",
    "\n",
    "    def __len__(self):\n",
    "        return len(self.labels)"
   ]
  },
  {
   "cell_type": "code",
   "execution_count": 5,
   "metadata": {},
   "outputs": [],
   "source": [
    "def compute_metrics(pred):\n",
    "    \"\"\"Compute evaluation metrics\"\"\"\n",
    "    labels = pred.label_ids\n",
    "    preds = pred.predictions.argmax(-1)\n",
    "    precision, recall, f1, _ = precision_recall_fscore_support(labels, preds, average=\"micro\")\n",
    "    acc = accuracy_score(labels, preds)\n",
    "\n",
    "    # Computing confusion matrix per class\n",
    "    unique_classes = np.unique(labels)\n",
    "    cm_per_class = {}\n",
    "    \n",
    "    for class_idx in unique_classes:\n",
    "        binary_labels = (labels == class_idx).astype(int)\n",
    "        binary_preds = (preds == class_idx).astype(int)\n",
    "        cm = confusion_matrix(binary_labels, binary_preds)\n",
    "        cm_per_class[f\"Class_{class_idx}\"] = cm.tolist()\n",
    "        \n",
    "        # Print per-class metrics for debugging\n",
    "        print(f\"\\nMetrics for Class {class_idx}:\")\n",
    "        print(f\"Confusion Matrix:\\n{cm}\")\n",
    "        class_precision = precision_recall_fscore_support(binary_labels, binary_preds, average='binary')[0]\n",
    "        class_recall = precision_recall_fscore_support(binary_labels, binary_preds, average='binary')[1]\n",
    "        print(f\"Precision: {class_precision:.4f}\")\n",
    "        print(f\"Recall: {class_recall:.4f}\")\n",
    "\n",
    "    return {\n",
    "        'accuracy': acc,\n",
    "        'f1': f1,\n",
    "        'precision': precision,\n",
    "        'recall': recall,\n",
    "        'confusion_matrix': cm_per_class\n",
    "    }"
   ]
  },
  {
   "cell_type": "code",
   "execution_count": 6,
   "metadata": {},
   "outputs": [],
   "source": [
    "def get_narrative_key(narrative_dict):\n",
    "    \"\"\"Extract key from narrative dictionary for classification\"\"\"\n",
    "    if isinstance(narrative_dict, str):\n",
    "        narrative_dict = eval(narrative_dict)\n",
    "    return narrative_dict['narrative']  # or you could use narrative_dict['subnarrative']\n",
    "\n",
    "def train_llama(df, base_path, model_name=\"meta-llama/Llama-2-7b\"):\n",
    "    \"\"\"Train Llama model with detailed debugging outputs\"\"\"\n",
    "    try:\n",
    "        current_date = datetime.now().strftime(\"%Y%m%d\")\n",
    "        \n",
    "        # Create output directories\n",
    "        output_dir = os.path.join(base_path, f\"models/llama_{current_date}\")\n",
    "        log_dir = os.path.join(base_path, f\"logs/llama_{current_date}\")\n",
    "        os.makedirs(output_dir, exist_ok=True)\n",
    "        os.makedirs(log_dir, exist_ok=True)\n",
    "        \n",
    "        print(f\"\\nOutput directory: {output_dir}\")\n",
    "        print(f\"Log directory: {log_dir}\")\n",
    "\n",
    "        # Initialize wandb\n",
    "        wandb.init(project=\"llama-classification\", name=f\"llama-classification-{current_date}\")\n",
    "\n",
    "        # Create narrative mapping\n",
    "        print(\"\\nCreating narrative mapping...\")\n",
    "        narratives = df['narrative_subnarrative_pairs'].apply(\n",
    "            lambda x: eval(x)[0] if isinstance(x, str) else x[0]\n",
    "        ).tolist()\n",
    "        \n",
    "        # Extract unique narratives (using main narrative or subnarrative)\n",
    "        unique_narratives = set(get_narrative_key(n) for n in narratives)\n",
    "        label_mapping = {narrative: idx for idx, narrative in enumerate(sorted(unique_narratives))}\n",
    "        \n",
    "        print(f\"Number of unique narratives: {len(unique_narratives)}\")\n",
    "        print(\"\\nSample narrative mappings:\")\n",
    "        for i, (narrative, idx) in enumerate(list(label_mapping.items())[:5]):\n",
    "            print(f\"{idx}: {narrative}\")\n",
    "\n",
    "        # Save label mapping\n",
    "        with open(os.path.join(output_dir, \"label_mapping.json\"), 'w') as f:\n",
    "            json.dump(label_mapping, f, indent=2)\n",
    "\n",
    "        # Prepare data\n",
    "        print(\"\\nPreparing data for training...\")\n",
    "        df_train, df_val = train_test_split(df, test_size=0.2, random_state=42)\n",
    "        \n",
    "        print(f\"Training set size: {len(df_train)}\")\n",
    "        print(f\"Validation set size: {len(df_val)}\")\n",
    "\n",
    "        # Process texts and labels\n",
    "        train_texts = df_train['tokens_normalized'].apply(\n",
    "            lambda x: ' '.join(x) if isinstance(x, list) else x\n",
    "        ).tolist()\n",
    "        val_texts = df_val['tokens_normalized'].apply(\n",
    "            lambda x: ' '.join(x) if isinstance(x, list) else x\n",
    "        ).tolist()\n",
    "        \n",
    "        # Convert narratives to labels using the main narrative\n",
    "        train_labels = [\n",
    "            label_mapping[get_narrative_key(eval(n)[0] if isinstance(n, str) else n[0])]\n",
    "            for n in df_train['narrative_subnarrative_pairs']\n",
    "        ]\n",
    "        val_labels = [\n",
    "            label_mapping[get_narrative_key(eval(n)[0] if isinstance(n, str) else n[0])]\n",
    "            for n in df_val['narrative_subnarrative_pairs']\n",
    "        ]\n",
    "\n",
    "        print(\"\\nSample processed text:\")\n",
    "        print(train_texts[0][:200])\n",
    "        \n",
    "        print(\"\\nLabel distribution in training set:\")\n",
    "        print(pd.Series(train_labels).value_counts())\n",
    "\n",
    "        # Initialize tokenizer\n",
    "        print(\"\\nInitializing tokenizer...\")\n",
    "        tokenizer = LlamaTokenizer.from_pretrained(model_name)\n",
    "        if tokenizer.pad_token is None:\n",
    "            tokenizer.pad_token = tokenizer.eos_token\n",
    "            tokenizer.pad_token_id = tokenizer.eos_token_id\n",
    "        \n",
    "        print(f\"Vocabulary size: {len(tokenizer)}\")\n",
    "        print(f\"Padding token: {tokenizer.pad_token}\")\n",
    "        print(f\"EOS token: {tokenizer.eos_token}\")\n",
    "\n",
    "        # Tokenize texts\n",
    "        print(\"\\nTokenizing texts...\")\n",
    "        train_encodings = tokenizer(\n",
    "            train_texts, \n",
    "            truncation=True, \n",
    "            padding=True, \n",
    "            max_length=512,\n",
    "            return_tensors=\"pt\"\n",
    "        )\n",
    "        val_encodings = tokenizer(\n",
    "            val_texts, \n",
    "            truncation=True, \n",
    "            padding=True, \n",
    "            max_length=512,\n",
    "            return_tensors=\"pt\"\n",
    "        )\n",
    "        \n",
    "        print(\"\\nEncoding shapes:\")\n",
    "        for key, val in train_encodings.items():\n",
    "            print(f\"Training {key}: {val.shape}\")\n",
    "\n",
    "        # Create datasets\n",
    "        train_dataset = CustomDataset(train_encodings, train_labels)\n",
    "        val_dataset = CustomDataset(val_encodings, val_labels)\n",
    "\n",
    "        # Initialize model\n",
    "        print(\"\\nInitializing model...\")\n",
    "        model = LlamaForSequenceClassification.from_pretrained(\n",
    "            model_name,\n",
    "            num_labels=len(label_mapping),\n",
    "            torch_dtype=torch.float16\n",
    "        )\n",
    "        \n",
    "        if model.config.pad_token_id is None:\n",
    "            model.config.pad_token_id = tokenizer.pad_token_id\n",
    "        \n",
    "        print(f\"Model parameters: {sum(p.numel() for p in model.parameters()):,}\")\n",
    "\n",
    "        # Training arguments\n",
    "        training_args = TrainingArguments(\n",
    "            output_dir=output_dir,\n",
    "            num_train_epochs=3,\n",
    "            per_device_train_batch_size=4,\n",
    "            per_device_eval_batch_size=4,\n",
    "            learning_rate=2e-5,\n",
    "            warmup_ratio=0.1,\n",
    "            evaluation_strategy=\"epoch\",\n",
    "            save_strategy=\"epoch\",\n",
    "            logging_dir=log_dir,\n",
    "            load_best_model_at_end=True,\n",
    "            metric_for_best_model='eval_loss',\n",
    "            greater_is_better=False,\n",
    "            logging_steps=10,\n",
    "            fp16=True,\n",
    "            gradient_accumulation_steps=4,\n",
    "            gradient_checkpointing=True\n",
    "        )\n",
    "\n",
    "        # Initialize trainer\n",
    "        trainer = Trainer(\n",
    "            model=model,\n",
    "            args=training_args,\n",
    "            train_dataset=train_dataset,\n",
    "            eval_dataset=val_dataset,\n",
    "            compute_metrics=compute_metrics\n",
    "        )\n",
    "\n",
    "        # Train model\n",
    "        print(\"\\nStarting training...\")\n",
    "        trainer.train()\n",
    "\n",
    "        # Evaluate model\n",
    "        print(\"\\nEvaluating model...\")\n",
    "        results = trainer.evaluate()\n",
    "        \n",
    "        print(\"\\nEvaluation results:\")\n",
    "        for metric, value in results.items():\n",
    "            if isinstance(value, float):\n",
    "                print(f\"{metric}: {value:.4f}\")\n",
    "            else:\n",
    "                print(f\"{metric}: {value}\")\n",
    "\n",
    "        # Save model and tokenizer\n",
    "        trainer.save_model(output_dir)\n",
    "        tokenizer.save_pretrained(output_dir)\n",
    "        print(f\"\\nModel and tokenizer saved to {output_dir}\")\n",
    "\n",
    "        # End wandb run\n",
    "        wandb.finish()\n",
    "\n",
    "        return results, model, tokenizer, label_mapping\n",
    "\n",
    "    except Exception as e:\n",
    "        print(f\"Error in Llama training: {str(e)}\")\n",
    "        wandb.finish()\n",
    "        raise"
   ]
  },
  {
   "cell_type": "code",
   "execution_count": 7,
   "metadata": {},
   "outputs": [],
   "source": [
    "def debug_misclassifications(dataset, model, tokenizer, label_mapping, dataset_type=\"Training\"):\n",
    "    \"\"\"Debug misclassified examples with detailed output\"\"\"\n",
    "    try:\n",
    "        print(f\"\\nAnalyzing misclassifications in {dataset_type} dataset...\")\n",
    "        \n",
    "        # Prepare data\n",
    "        texts = dataset['tokens_normalized'].apply(\n",
    "            lambda x: ' '.join(x) if isinstance(x, list) else x\n",
    "        ).tolist()\n",
    "        \n",
    "        true_labels = [\n",
    "            label_mapping[get_narrative_key(eval(n)[0] if isinstance(n, str) else n[0])]\n",
    "            for n in dataset['narrative_subnarrative_pairs']\n",
    "        ]\n",
    "        \n",
    "        print(f\"\\nTotal samples to analyze: {len(texts)}\")\n",
    "\n",
    "        # Get predictions\n",
    "        print(\"\\nGenerating predictions...\")\n",
    "        encodings = tokenizer(texts, truncation=True, padding=True, max_length=512, return_tensors=\"pt\")\n",
    "        \n",
    "        with torch.no_grad():\n",
    "            outputs = model(**encodings)\n",
    "            predictions = outputs.logits.argmax(-1)\n",
    "\n",
    "        # Track misclassifications\n",
    "        misclassifications = []\n",
    "        for idx, (pred, true) in enumerate(zip(predictions, true_labels)):\n",
    "            if pred != true:\n",
    "                misclassifications.append({\n",
    "                    'text': texts[idx][:200],\n",
    "                    'predicted': pred.item(),\n",
    "                    'actual': true,\n",
    "                    'confidence': torch.softmax(outputs.logits[idx], dim=0)[pred].item(),\n",
    "                    'dataset_type': dataset_type\n",
    "                })\n",
    "\n",
    "        # Create DataFrame and display results\n",
    "        misclass_df = pd.DataFrame(misclassifications)\n",
    "        \n",
    "        print(f\"\\nTotal misclassifications: {len(misclass_df)}\")\n",
    "        print(f\"Accuracy: {1 - len(misclass_df)/len(texts):.4f}\")\n",
    "        \n",
    "        print(\"\\nMisclassification distribution:\")\n",
    "        print(misclass_df.groupby(['actual', 'predicted']).size().unstack(fill_value=0))\n",
    "        \n",
    "        return misclass_df\n",
    "\n",
    "    except Exception as e:\n",
    "        print(f\"Error in debugging misclassifications: {str(e)}\")\n",
    "        raise"
   ]
  },
  {
   "cell_type": "code",
   "execution_count": 8,
   "metadata": {},
   "outputs": [
    {
     "name": "stdout",
     "output_type": "stream",
     "text": [
      "Select dataset for training:\n",
      "1. Full dataset\n",
      "2. UA dataset\n",
      "3. CC dataset\n"
     ]
    },
    {
     "name": "stderr",
     "output_type": "stream",
     "text": [
      "\u001b[34m\u001b[1mwandb\u001b[0m: Using wandb-core as the SDK backend.  Please refer to https://wandb.me/wandb-core for more information.\n"
     ]
    },
    {
     "name": "stdout",
     "output_type": "stream",
     "text": [
      "\n",
      "Training on CC dataset...\n",
      "\n",
      "Output directory: c:\\Users\\krona\\OneDrive - TU Wien\\TU Wien\\1. Semester\\NLP\\nlp_Backpropagandists_2024\\code\\models/llama_20250109\n",
      "Log directory: c:\\Users\\krona\\OneDrive - TU Wien\\TU Wien\\1. Semester\\NLP\\nlp_Backpropagandists_2024\\code\\logs/llama_20250109\n"
     ]
    },
    {
     "name": "stderr",
     "output_type": "stream",
     "text": [
      "\u001b[34m\u001b[1mwandb\u001b[0m: Currently logged in as: \u001b[33mjonaskruse\u001b[0m (\u001b[33mbackpropagandists\u001b[0m). Use \u001b[1m`wandb login --relogin`\u001b[0m to force relogin\n"
     ]
    },
    {
     "data": {
      "text/html": [
       "Tracking run with wandb version 0.18.7"
      ],
      "text/plain": [
       "<IPython.core.display.HTML object>"
      ]
     },
     "metadata": {},
     "output_type": "display_data"
    },
    {
     "data": {
      "text/html": [
       "Run data is saved locally in <code>c:\\Users\\krona\\OneDrive - TU Wien\\TU Wien\\1. Semester\\NLP\\nlp_Backpropagandists_2024\\code\\models\\wandb\\run-20250109_213444-vykv23gy</code>"
      ],
      "text/plain": [
       "<IPython.core.display.HTML object>"
      ]
     },
     "metadata": {},
     "output_type": "display_data"
    },
    {
     "data": {
      "text/html": [
       "Syncing run <strong><a href='https://wandb.ai/backpropagandists/llama-classification/runs/vykv23gy' target=\"_blank\">llama-classification-20250109</a></strong> to <a href='https://wandb.ai/backpropagandists/llama-classification' target=\"_blank\">Weights & Biases</a> (<a href='https://wandb.me/developer-guide' target=\"_blank\">docs</a>)<br/>"
      ],
      "text/plain": [
       "<IPython.core.display.HTML object>"
      ]
     },
     "metadata": {},
     "output_type": "display_data"
    },
    {
     "data": {
      "text/html": [
       " View project at <a href='https://wandb.ai/backpropagandists/llama-classification' target=\"_blank\">https://wandb.ai/backpropagandists/llama-classification</a>"
      ],
      "text/plain": [
       "<IPython.core.display.HTML object>"
      ]
     },
     "metadata": {},
     "output_type": "display_data"
    },
    {
     "data": {
      "text/html": [
       " View run at <a href='https://wandb.ai/backpropagandists/llama-classification/runs/vykv23gy' target=\"_blank\">https://wandb.ai/backpropagandists/llama-classification/runs/vykv23gy</a>"
      ],
      "text/plain": [
       "<IPython.core.display.HTML object>"
      ]
     },
     "metadata": {},
     "output_type": "display_data"
    },
    {
     "name": "stdout",
     "output_type": "stream",
     "text": [
      "\n",
      "Creating narrative mapping...\n",
      "Number of unique narratives: 234\n",
      "\n",
      "Sample narrative mappings:\n",
      "0: [{'narrative': 'Amplifying Climate Fears', 'subnarrative': 'Amplifying existing fears of global warming'}, {'narrative': 'Amplifying Climate Fears', 'subnarrative': 'Doomsday scenarios for humans'}, {'narrative': 'Amplifying Climate Fears', 'subnarrative': 'Other'}]\n",
      "1: [{'narrative': 'Amplifying Climate Fears', 'subnarrative': 'Amplifying existing fears of global warming'}, {'narrative': 'Amplifying Climate Fears', 'subnarrative': 'Doomsday scenarios for humans'}, {'narrative': 'Controversy about green technologies', 'subnarrative': 'Other'}]\n",
      "2: [{'narrative': 'Amplifying Climate Fears', 'subnarrative': 'Amplifying existing fears of global warming'}, {'narrative': 'Amplifying Climate Fears', 'subnarrative': 'Doomsday scenarios for humans'}, {'narrative': 'Criticism of institutions and authorities', 'subnarrative': 'Criticism of political organizations and figures'}, {'narrative': 'Criticism of institutions and authorities', 'subnarrative': 'Criticism of national governments'}]\n",
      "3: [{'narrative': 'Amplifying Climate Fears', 'subnarrative': 'Amplifying existing fears of global warming'}, {'narrative': 'Amplifying Climate Fears', 'subnarrative': 'Doomsday scenarios for humans'}]\n",
      "4: [{'narrative': 'Amplifying Climate Fears', 'subnarrative': 'Amplifying existing fears of global warming'}, {'narrative': 'Amplifying Climate Fears', 'subnarrative': 'Earth will be uninhabitable soon'}, {'narrative': 'Amplifying Climate Fears', 'subnarrative': 'Doomsday scenarios for humans'}]\n",
      "\n",
      "Preparing data for training...\n",
      "Training set size: 415\n",
      "Validation set size: 104\n",
      "Error in Llama training: \"{'narrative': 'Criticism of institutions and authorities', 'subnarrative': 'Criticism of political organizations and figures'}\"\n"
     ]
    },
    {
     "data": {
      "text/html": [
       " View run <strong style=\"color:#cdcd00\">llama-classification-20250109</strong> at: <a href='https://wandb.ai/backpropagandists/llama-classification/runs/vykv23gy' target=\"_blank\">https://wandb.ai/backpropagandists/llama-classification/runs/vykv23gy</a><br/> View project at: <a href='https://wandb.ai/backpropagandists/llama-classification' target=\"_blank\">https://wandb.ai/backpropagandists/llama-classification</a><br/>Synced 4 W&B file(s), 0 media file(s), 3 artifact file(s) and 0 other file(s)"
      ],
      "text/plain": [
       "<IPython.core.display.HTML object>"
      ]
     },
     "metadata": {},
     "output_type": "display_data"
    },
    {
     "data": {
      "text/html": [
       "Find logs at: <code>.\\wandb\\run-20250109_213444-vykv23gy\\logs</code>"
      ],
      "text/plain": [
       "<IPython.core.display.HTML object>"
      ]
     },
     "metadata": {},
     "output_type": "display_data"
    },
    {
     "ename": "KeyError",
     "evalue": "\"{'narrative': 'Criticism of institutions and authorities', 'subnarrative': 'Criticism of political organizations and figures'}\"",
     "output_type": "error",
     "traceback": [
      "\u001b[1;31m---------------------------------------------------------------------------\u001b[0m",
      "\u001b[1;31mKeyError\u001b[0m                                  Traceback (most recent call last)",
      "Cell \u001b[1;32mIn[8], line 16\u001b[0m\n\u001b[0;32m     14\u001b[0m \u001b[38;5;28;01melse\u001b[39;00m:\n\u001b[0;32m     15\u001b[0m     \u001b[38;5;28mprint\u001b[39m(\u001b[38;5;124m\"\u001b[39m\u001b[38;5;130;01m\\n\u001b[39;00m\u001b[38;5;124mTraining on CC dataset...\u001b[39m\u001b[38;5;124m\"\u001b[39m)\n\u001b[1;32m---> 16\u001b[0m     results, model, tokenizer, label_mapping \u001b[38;5;241m=\u001b[39m \u001b[43mtrain_llama\u001b[49m\u001b[43m(\u001b[49m\u001b[43mdf_normalized_cc\u001b[49m\u001b[43m,\u001b[49m\u001b[43m \u001b[49m\u001b[43mbase_path\u001b[49m\u001b[43m)\u001b[49m\n",
      "Cell \u001b[1;32mIn[6], line 51\u001b[0m, in \u001b[0;36mtrain_llama\u001b[1;34m(df, base_path, model_name)\u001b[0m\n\u001b[0;32m     44\u001b[0m train_texts \u001b[38;5;241m=\u001b[39m df_train[\u001b[38;5;124m'\u001b[39m\u001b[38;5;124mtokens_normalized\u001b[39m\u001b[38;5;124m'\u001b[39m]\u001b[38;5;241m.\u001b[39mapply(\n\u001b[0;32m     45\u001b[0m     \u001b[38;5;28;01mlambda\u001b[39;00m x: \u001b[38;5;124m'\u001b[39m\u001b[38;5;124m \u001b[39m\u001b[38;5;124m'\u001b[39m\u001b[38;5;241m.\u001b[39mjoin(x) \u001b[38;5;28;01mif\u001b[39;00m \u001b[38;5;28misinstance\u001b[39m(x, \u001b[38;5;28mlist\u001b[39m) \u001b[38;5;28;01melse\u001b[39;00m x\n\u001b[0;32m     46\u001b[0m )\u001b[38;5;241m.\u001b[39mtolist()\n\u001b[0;32m     47\u001b[0m val_texts \u001b[38;5;241m=\u001b[39m df_val[\u001b[38;5;124m'\u001b[39m\u001b[38;5;124mtokens_normalized\u001b[39m\u001b[38;5;124m'\u001b[39m]\u001b[38;5;241m.\u001b[39mapply(\n\u001b[0;32m     48\u001b[0m     \u001b[38;5;28;01mlambda\u001b[39;00m x: \u001b[38;5;124m'\u001b[39m\u001b[38;5;124m \u001b[39m\u001b[38;5;124m'\u001b[39m\u001b[38;5;241m.\u001b[39mjoin(x) \u001b[38;5;28;01mif\u001b[39;00m \u001b[38;5;28misinstance\u001b[39m(x, \u001b[38;5;28mlist\u001b[39m) \u001b[38;5;28;01melse\u001b[39;00m x\n\u001b[0;32m     49\u001b[0m )\u001b[38;5;241m.\u001b[39mtolist()\n\u001b[1;32m---> 51\u001b[0m train_labels \u001b[38;5;241m=\u001b[39m [label_mapping[\u001b[38;5;28mstr\u001b[39m(\u001b[38;5;28meval\u001b[39m(n)[\u001b[38;5;241m0\u001b[39m] \u001b[38;5;28;01mif\u001b[39;00m \u001b[38;5;28misinstance\u001b[39m(n, \u001b[38;5;28mstr\u001b[39m) \u001b[38;5;28;01melse\u001b[39;00m n[\u001b[38;5;241m0\u001b[39m])] \n\u001b[0;32m     52\u001b[0m                \u001b[38;5;28;01mfor\u001b[39;00m n \u001b[38;5;129;01min\u001b[39;00m df_train[\u001b[38;5;124m'\u001b[39m\u001b[38;5;124mnarrative_subnarrative_pairs\u001b[39m\u001b[38;5;124m'\u001b[39m]]\n\u001b[0;32m     53\u001b[0m val_labels \u001b[38;5;241m=\u001b[39m [label_mapping[\u001b[38;5;28mstr\u001b[39m(\u001b[38;5;28meval\u001b[39m(n)[\u001b[38;5;241m0\u001b[39m] \u001b[38;5;28;01mif\u001b[39;00m \u001b[38;5;28misinstance\u001b[39m(n, \u001b[38;5;28mstr\u001b[39m) \u001b[38;5;28;01melse\u001b[39;00m n[\u001b[38;5;241m0\u001b[39m])] \n\u001b[0;32m     54\u001b[0m              \u001b[38;5;28;01mfor\u001b[39;00m n \u001b[38;5;129;01min\u001b[39;00m df_val[\u001b[38;5;124m'\u001b[39m\u001b[38;5;124mnarrative_subnarrative_pairs\u001b[39m\u001b[38;5;124m'\u001b[39m]]\n\u001b[0;32m     56\u001b[0m \u001b[38;5;28mprint\u001b[39m(\u001b[38;5;124m\"\u001b[39m\u001b[38;5;130;01m\\n\u001b[39;00m\u001b[38;5;124mSample processed text:\u001b[39m\u001b[38;5;124m\"\u001b[39m)\n",
      "Cell \u001b[1;32mIn[6], line 51\u001b[0m, in \u001b[0;36m<listcomp>\u001b[1;34m(.0)\u001b[0m\n\u001b[0;32m     44\u001b[0m train_texts \u001b[38;5;241m=\u001b[39m df_train[\u001b[38;5;124m'\u001b[39m\u001b[38;5;124mtokens_normalized\u001b[39m\u001b[38;5;124m'\u001b[39m]\u001b[38;5;241m.\u001b[39mapply(\n\u001b[0;32m     45\u001b[0m     \u001b[38;5;28;01mlambda\u001b[39;00m x: \u001b[38;5;124m'\u001b[39m\u001b[38;5;124m \u001b[39m\u001b[38;5;124m'\u001b[39m\u001b[38;5;241m.\u001b[39mjoin(x) \u001b[38;5;28;01mif\u001b[39;00m \u001b[38;5;28misinstance\u001b[39m(x, \u001b[38;5;28mlist\u001b[39m) \u001b[38;5;28;01melse\u001b[39;00m x\n\u001b[0;32m     46\u001b[0m )\u001b[38;5;241m.\u001b[39mtolist()\n\u001b[0;32m     47\u001b[0m val_texts \u001b[38;5;241m=\u001b[39m df_val[\u001b[38;5;124m'\u001b[39m\u001b[38;5;124mtokens_normalized\u001b[39m\u001b[38;5;124m'\u001b[39m]\u001b[38;5;241m.\u001b[39mapply(\n\u001b[0;32m     48\u001b[0m     \u001b[38;5;28;01mlambda\u001b[39;00m x: \u001b[38;5;124m'\u001b[39m\u001b[38;5;124m \u001b[39m\u001b[38;5;124m'\u001b[39m\u001b[38;5;241m.\u001b[39mjoin(x) \u001b[38;5;28;01mif\u001b[39;00m \u001b[38;5;28misinstance\u001b[39m(x, \u001b[38;5;28mlist\u001b[39m) \u001b[38;5;28;01melse\u001b[39;00m x\n\u001b[0;32m     49\u001b[0m )\u001b[38;5;241m.\u001b[39mtolist()\n\u001b[1;32m---> 51\u001b[0m train_labels \u001b[38;5;241m=\u001b[39m [\u001b[43mlabel_mapping\u001b[49m\u001b[43m[\u001b[49m\u001b[38;5;28;43mstr\u001b[39;49m\u001b[43m(\u001b[49m\u001b[38;5;28;43meval\u001b[39;49m\u001b[43m(\u001b[49m\u001b[43mn\u001b[49m\u001b[43m)\u001b[49m\u001b[43m[\u001b[49m\u001b[38;5;241;43m0\u001b[39;49m\u001b[43m]\u001b[49m\u001b[43m \u001b[49m\u001b[38;5;28;43;01mif\u001b[39;49;00m\u001b[43m \u001b[49m\u001b[38;5;28;43misinstance\u001b[39;49m\u001b[43m(\u001b[49m\u001b[43mn\u001b[49m\u001b[43m,\u001b[49m\u001b[43m \u001b[49m\u001b[38;5;28;43mstr\u001b[39;49m\u001b[43m)\u001b[49m\u001b[43m \u001b[49m\u001b[38;5;28;43;01melse\u001b[39;49;00m\u001b[43m \u001b[49m\u001b[43mn\u001b[49m\u001b[43m[\u001b[49m\u001b[38;5;241;43m0\u001b[39;49m\u001b[43m]\u001b[49m\u001b[43m)\u001b[49m\u001b[43m]\u001b[49m \n\u001b[0;32m     52\u001b[0m                \u001b[38;5;28;01mfor\u001b[39;00m n \u001b[38;5;129;01min\u001b[39;00m df_train[\u001b[38;5;124m'\u001b[39m\u001b[38;5;124mnarrative_subnarrative_pairs\u001b[39m\u001b[38;5;124m'\u001b[39m]]\n\u001b[0;32m     53\u001b[0m val_labels \u001b[38;5;241m=\u001b[39m [label_mapping[\u001b[38;5;28mstr\u001b[39m(\u001b[38;5;28meval\u001b[39m(n)[\u001b[38;5;241m0\u001b[39m] \u001b[38;5;28;01mif\u001b[39;00m \u001b[38;5;28misinstance\u001b[39m(n, \u001b[38;5;28mstr\u001b[39m) \u001b[38;5;28;01melse\u001b[39;00m n[\u001b[38;5;241m0\u001b[39m])] \n\u001b[0;32m     54\u001b[0m              \u001b[38;5;28;01mfor\u001b[39;00m n \u001b[38;5;129;01min\u001b[39;00m df_val[\u001b[38;5;124m'\u001b[39m\u001b[38;5;124mnarrative_subnarrative_pairs\u001b[39m\u001b[38;5;124m'\u001b[39m]]\n\u001b[0;32m     56\u001b[0m \u001b[38;5;28mprint\u001b[39m(\u001b[38;5;124m\"\u001b[39m\u001b[38;5;130;01m\\n\u001b[39;00m\u001b[38;5;124mSample processed text:\u001b[39m\u001b[38;5;124m\"\u001b[39m)\n",
      "\u001b[1;31mKeyError\u001b[0m: \"{'narrative': 'Criticism of institutions and authorities', 'subnarrative': 'Criticism of political organizations and figures'}\""
     ]
    }
   ],
   "source": [
    "# Choose dataset to train on\n",
    "print(\"Select dataset for training:\")\n",
    "print(\"1. Full dataset\")\n",
    "print(\"2. UA dataset\")\n",
    "print(\"3. CC dataset\")\n",
    "choice = input(\"Enter your choice (1-3): \")\n",
    "\n",
    "if choice == \"1\":\n",
    "    print(\"\\nTraining on full dataset...\")\n",
    "    results, model, tokenizer, label_mapping = train_llama(df_normalized, base_path)\n",
    "elif choice == \"2\":\n",
    "    print(\"\\nTraining on UA dataset...\")\n",
    "    results, model, tokenizer, label_mapping = train_llama(df_normalized_ua, base_path)\n",
    "else:\n",
    "    print(\"\\nTraining on CC dataset...\")\n",
    "    results, model, tokenizer, label_mapping = train_llama(df_normalized_cc, base_path)\n"
   ]
  },
  {
   "cell_type": "code",
   "execution_count": null,
   "metadata": {},
   "outputs": [],
   "source": [
    "# Debug misclassifications\n",
    "if choice == \"1\":\n",
    "    misclass_df = debug_misclassifications(df_normalized, model, tokenizer, label_mapping)\n",
    "elif choice == \"2\":\n",
    "    misclass_df = debug_misclassifications(df_normalized_ua, model, tokenizer, label_mapping)\n",
    "else:\n",
    "    misclass_df = debug_misclassifications(df_normalized_cc,model, tokenizer, label_mapping)"
   ]
  }
 ],
 "metadata": {
  "kernelspec": {
   "display_name": "tf-gpu",
   "language": "python",
   "name": "python3"
  },
  "language_info": {
   "codemirror_mode": {
    "name": "ipython",
    "version": 3
   },
   "file_extension": ".py",
   "mimetype": "text/x-python",
   "name": "python",
   "nbconvert_exporter": "python",
   "pygments_lexer": "ipython3",
   "version": "3.10.15"
  }
 },
 "nbformat": 4,
 "nbformat_minor": 2
}
